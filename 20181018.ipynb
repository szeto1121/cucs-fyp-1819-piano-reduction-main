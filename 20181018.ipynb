{
 "cells": [
  {
   "cell_type": "markdown",
   "metadata": {},
   "source": [
    "# Things done these two weeks (2018-10-18)"
   ]
  },
  {
   "cell_type": "markdown",
   "metadata": {},
   "source": [
    "## Implemented more functions to compute and load the features"
   ]
  },
  {
   "cell_type": "code",
   "execution_count": 1,
   "metadata": {},
   "outputs": [
    {
     "data": {
      "text/html": [
       "<div>\n",
       "<style scoped>\n",
       "    .dataframe tbody tr th:only-of-type {\n",
       "        vertical-align: middle;\n",
       "    }\n",
       "\n",
       "    .dataframe tbody tr th {\n",
       "        vertical-align: top;\n",
       "    }\n",
       "\n",
       "    .dataframe thead th {\n",
       "        text-align: right;\n",
       "    }\n",
       "</style>\n",
       "<table border=\"1\" class=\"dataframe\">\n",
       "  <thead>\n",
       "    <tr style=\"text-align: right;\">\n",
       "      <th></th>\n",
       "      <th>active_rhythm</th>\n",
       "      <th>bass_line</th>\n",
       "      <th>entrance_effect</th>\n",
       "      <th>harmony</th>\n",
       "      <th>highest</th>\n",
       "      <th>in_chord</th>\n",
       "      <th>lowest</th>\n",
       "      <th>occurrence</th>\n",
       "      <th>offset_value</th>\n",
       "      <th>onset_after_rest</th>\n",
       "      <th>pitch_distance</th>\n",
       "      <th>rhythm_variety</th>\n",
       "      <th>strong_beats</th>\n",
       "      <th>sustained_rhythm</th>\n",
       "      <th>vertical_doubling</th>\n",
       "    </tr>\n",
       "  </thead>\n",
       "  <tbody>\n",
       "    <tr>\n",
       "      <th>0</th>\n",
       "      <td>1</td>\n",
       "      <td>0</td>\n",
       "      <td>0.0</td>\n",
       "      <td>1</td>\n",
       "      <td>1</td>\n",
       "      <td>0</td>\n",
       "      <td>0</td>\n",
       "      <td>1</td>\n",
       "      <td>0.5</td>\n",
       "      <td>1</td>\n",
       "      <td>7.0</td>\n",
       "      <td>1</td>\n",
       "      <td>0</td>\n",
       "      <td>1</td>\n",
       "      <td>1</td>\n",
       "    </tr>\n",
       "    <tr>\n",
       "      <th>1</th>\n",
       "      <td>1</td>\n",
       "      <td>0</td>\n",
       "      <td>0.0</td>\n",
       "      <td>1</td>\n",
       "      <td>0</td>\n",
       "      <td>0</td>\n",
       "      <td>0</td>\n",
       "      <td>1</td>\n",
       "      <td>0.5</td>\n",
       "      <td>1</td>\n",
       "      <td>5.0</td>\n",
       "      <td>1</td>\n",
       "      <td>0</td>\n",
       "      <td>1</td>\n",
       "      <td>1</td>\n",
       "    </tr>\n",
       "    <tr>\n",
       "      <th>2</th>\n",
       "      <td>1</td>\n",
       "      <td>1</td>\n",
       "      <td>0.0</td>\n",
       "      <td>1</td>\n",
       "      <td>0</td>\n",
       "      <td>0</td>\n",
       "      <td>1</td>\n",
       "      <td>1</td>\n",
       "      <td>0.5</td>\n",
       "      <td>1</td>\n",
       "      <td>17.0</td>\n",
       "      <td>1</td>\n",
       "      <td>0</td>\n",
       "      <td>1</td>\n",
       "      <td>1</td>\n",
       "    </tr>\n",
       "    <tr>\n",
       "      <th>3</th>\n",
       "      <td>1</td>\n",
       "      <td>0</td>\n",
       "      <td>0.5</td>\n",
       "      <td>1</td>\n",
       "      <td>1</td>\n",
       "      <td>0</td>\n",
       "      <td>0</td>\n",
       "      <td>1</td>\n",
       "      <td>1.0</td>\n",
       "      <td>0</td>\n",
       "      <td>7.0</td>\n",
       "      <td>0</td>\n",
       "      <td>1</td>\n",
       "      <td>1</td>\n",
       "      <td>1</td>\n",
       "    </tr>\n",
       "    <tr>\n",
       "      <th>4</th>\n",
       "      <td>1</td>\n",
       "      <td>0</td>\n",
       "      <td>0.5</td>\n",
       "      <td>1</td>\n",
       "      <td>0</td>\n",
       "      <td>0</td>\n",
       "      <td>0</td>\n",
       "      <td>1</td>\n",
       "      <td>1.0</td>\n",
       "      <td>0</td>\n",
       "      <td>5.0</td>\n",
       "      <td>0</td>\n",
       "      <td>1</td>\n",
       "      <td>1</td>\n",
       "      <td>1</td>\n",
       "    </tr>\n",
       "  </tbody>\n",
       "</table>\n",
       "</div>"
      ],
      "text/plain": [
       "   active_rhythm  bass_line  entrance_effect  harmony  highest  in_chord  \\\n",
       "0              1          0              0.0        1        1         0   \n",
       "1              1          0              0.0        1        0         0   \n",
       "2              1          1              0.0        1        0         0   \n",
       "3              1          0              0.5        1        1         0   \n",
       "4              1          0              0.5        1        0         0   \n",
       "\n",
       "   lowest  occurrence  offset_value  onset_after_rest  pitch_distance  \\\n",
       "0       0           1           0.5                 1             7.0   \n",
       "1       0           1           0.5                 1             5.0   \n",
       "2       1           1           0.5                 1            17.0   \n",
       "3       0           1           1.0                 0             7.0   \n",
       "4       0           1           1.0                 0             5.0   \n",
       "\n",
       "   rhythm_variety  strong_beats  sustained_rhythm  vertical_doubling  \n",
       "0               1             0                 1                  1  \n",
       "1               1             0                 1                  1  \n",
       "2               1             0                 1                  1  \n",
       "3               0             1                 1                  1  \n",
       "4               0             1                 1                  1  "
      ]
     },
     "execution_count": 1,
     "metadata": {},
     "output_type": "execute_result"
    }
   ],
   "source": [
    "from piano_reduction import compute_features as cf\n",
    "x_train, y_train = cf.load_features(2)\n",
    "x_train.head()"
   ]
  },
  {
   "cell_type": "code",
   "execution_count": 2,
   "metadata": {},
   "outputs": [
    {
     "data": {
      "text/plain": [
       "15"
      ]
     },
     "execution_count": 2,
     "metadata": {},
     "output_type": "execute_result"
    }
   ],
   "source": [
    "cf.feature_count()"
   ]
  },
  {
   "cell_type": "markdown",
   "metadata": {},
   "source": [
    "#### Convert data to sequence data for LSTM"
   ]
  },
  {
   "cell_type": "code",
   "execution_count": 3,
   "metadata": {},
   "outputs": [
    {
     "data": {
      "text/plain": [
       "((1515, 20, 15), (1515, 20, 1))"
      ]
     },
     "execution_count": 3,
     "metadata": {},
     "output_type": "execute_result"
    }
   ],
   "source": [
    "x_train, y_train = cf.generate_data([cf.load_features(2)], length = 20)\n",
    "x_train.shape, y_train.shape"
   ]
  },
  {
   "cell_type": "markdown",
   "metadata": {},
   "source": [
    "#### Convert data to one-hot vector for LSTM"
   ]
  },
  {
   "cell_type": "code",
   "execution_count": 4,
   "metadata": {},
   "outputs": [
    {
     "data": {
      "text/plain": [
       "((359, 20, 128), (359, 20, 128))"
      ]
     },
     "execution_count": 4,
     "metadata": {},
     "output_type": "execute_result"
    }
   ],
   "source": [
    "from piano_reduction import tools as pr\n",
    "res = pr.load_merged_df(2)\n",
    "x_train, y_train = cf.generate_data_2([(cf.df_to_onehot(res[0], 'x_train'), cf.df_to_onehot(res[0], 'y_train'))])\n",
    "x_train.shape, y_train.shape"
   ]
  },
  {
   "cell_type": "markdown",
   "metadata": {},
   "source": [
    "## Tried using Keras NN and LSTM"
   ]
  },
  {
   "cell_type": "code",
   "execution_count": 5,
   "metadata": {},
   "outputs": [
    {
     "name": "stderr",
     "output_type": "stream",
     "text": [
      "Using TensorFlow backend.\n"
     ]
    }
   ],
   "source": [
    "from keras.models import Sequential\n",
    "from keras.layers.core import Dense, Dropout, Activation\n",
    "from keras.layers.embeddings import Embedding\n",
    "from keras.layers.recurrent import LSTM\n",
    "from keras import backend as K\n",
    "from keras.callbacks import BaseLogger\n",
    "from keras.callbacks import EarlyStopping\n",
    "def f1(y_true, y_pred):\n",
    "    def recall(y_true, y_pred):\n",
    "        true_positives = K.sum(K.round(K.clip(y_true * y_pred, 0, 1)))\n",
    "        possible_positives = K.sum(K.round(K.clip(y_true, 0, 1)))\n",
    "        recall = true_positives / (possible_positives + K.epsilon())\n",
    "        return recall\n",
    "\n",
    "    def precision(y_true, y_pred):\n",
    "        true_positives = K.sum(K.round(K.clip(y_true * y_pred, 0, 1)))\n",
    "        predicted_positives = K.sum(K.round(K.clip(y_pred, 0, 1)))\n",
    "        precision = true_positives / (predicted_positives + K.epsilon())\n",
    "        return precision\n",
    "    precision = precision(y_true, y_pred)\n",
    "    recall = recall(y_true, y_pred)\n",
    "    return 2*((precision*recall)/(precision+recall+K.epsilon()))\n",
    "\n",
    "early_stop = EarlyStopping(monitor='val_acc', min_delta=0, patience=5, verbose=0, restore_best_weights=True)"
   ]
  },
  {
   "cell_type": "markdown",
   "metadata": {},
   "source": [
    "### Dense Layers"
   ]
  },
  {
   "cell_type": "code",
   "execution_count": 6,
   "metadata": {},
   "outputs": [
    {
     "name": "stdout",
     "output_type": "stream",
     "text": [
      "_________________________________________________________________\n",
      "Layer (type)                 Output Shape              Param #   \n",
      "=================================================================\n",
      "dense_1 (Dense)              (None, None, 50)          800       \n",
      "_________________________________________________________________\n",
      "activation_1 (Activation)    (None, None, 50)          0         \n",
      "_________________________________________________________________\n",
      "dense_2 (Dense)              (None, None, 1)           51        \n",
      "_________________________________________________________________\n",
      "activation_2 (Activation)    (None, None, 1)           0         \n",
      "=================================================================\n",
      "Total params: 851\n",
      "Trainable params: 851\n",
      "Non-trainable params: 0\n",
      "_________________________________________________________________\n"
     ]
    }
   ],
   "source": [
    "nn = Sequential()\n",
    "nn.add(Dense(50, input_shape=(None, cf.feature_count())))\n",
    "nn.add(Activation('sigmoid'))\n",
    "nn.add(Dense(1))\n",
    "nn.add(Activation('sigmoid'))\n",
    "nn.compile(optimizer='rmsprop',\n",
    "              loss='binary_crossentropy',\n",
    "              metrics=['accuracy', f1])\n",
    "nn.summary()"
   ]
  },
  {
   "cell_type": "code",
   "execution_count": 52,
   "metadata": {},
   "outputs": [
    {
     "name": "stdout",
     "output_type": "stream",
     "text": [
      "Train on 3843 samples, validate on 1534 samples\n",
      "Epoch 1/50\n",
      "3843/3843 [==============================] - 0s 57us/step - loss: 0.5965 - acc: 0.6825 - f1: 0.7522 - val_loss: 0.7019 - val_acc: 0.6102 - val_f1: 0.7064\n",
      "Epoch 2/50\n",
      "3843/3843 [==============================] - 0s 53us/step - loss: 0.5923 - acc: 0.6872 - f1: 0.7549 - val_loss: 0.6999 - val_acc: 0.6330 - val_f1: 0.7081\n",
      "Epoch 3/50\n",
      "3843/3843 [==============================] - 0s 46us/step - loss: 0.5902 - acc: 0.6875 - f1: 0.7551 - val_loss: 0.6790 - val_acc: 0.6349 - val_f1: 0.6774\n",
      "Epoch 4/50\n",
      "3843/3843 [==============================] - 0s 51us/step - loss: 0.5882 - acc: 0.6870 - f1: 0.7510 - val_loss: 0.6903 - val_acc: 0.6415 - val_f1: 0.6894\n",
      "Epoch 5/50\n",
      "3843/3843 [==============================] - 0s 57us/step - loss: 0.5865 - acc: 0.6893 - f1: 0.7507 - val_loss: 0.6916 - val_acc: 0.6415 - val_f1: 0.7061\n",
      "Epoch 6/50\n",
      "3843/3843 [==============================] - 0s 51us/step - loss: 0.5844 - acc: 0.6885 - f1: 0.7511 - val_loss: 0.6920 - val_acc: 0.6330 - val_f1: 0.7057\n",
      "Epoch 7/50\n",
      "3843/3843 [==============================] - 0s 50us/step - loss: 0.5818 - acc: 0.6992 - f1: 0.7585 - val_loss: 0.6977 - val_acc: 0.6389 - val_f1: 0.6662\n",
      "Epoch 8/50\n",
      "3843/3843 [==============================] - 0s 49us/step - loss: 0.5801 - acc: 0.6940 - f1: 0.7534 - val_loss: 0.6898 - val_acc: 0.6382 - val_f1: 0.7056\n",
      "Epoch 9/50\n",
      "3843/3843 [==============================] - 0s 51us/step - loss: 0.5783 - acc: 0.6982 - f1: 0.7580 - val_loss: 0.7049 - val_acc: 0.6213 - val_f1: 0.7061\n",
      "Epoch 10/50\n",
      "3843/3843 [==============================] - 0s 52us/step - loss: 0.5805 - acc: 0.6961 - f1: 0.7559 - val_loss: 0.6817 - val_acc: 0.6330 - val_f1: 0.6819\n",
      "Epoch 11/50\n",
      "3843/3843 [==============================] - 0s 55us/step - loss: 0.5769 - acc: 0.7010 - f1: 0.7611 - val_loss: 0.6965 - val_acc: 0.6421 - val_f1: 0.7000\n",
      "Epoch 12/50\n",
      "3843/3843 [==============================] - 0s 51us/step - loss: 0.5764 - acc: 0.6979 - f1: 0.7565 - val_loss: 0.7156 - val_acc: 0.6297 - val_f1: 0.7096\n",
      "Epoch 13/50\n",
      "3843/3843 [==============================] - 0s 60us/step - loss: 0.5734 - acc: 0.7000 - f1: 0.7585 - val_loss: 0.6910 - val_acc: 0.6356 - val_f1: 0.6981\n",
      "Epoch 14/50\n",
      "3843/3843 [==============================] - 0s 58us/step - loss: 0.5733 - acc: 0.7034 - f1: 0.7617 - val_loss: 0.6835 - val_acc: 0.6382 - val_f1: 0.6776\n",
      "Epoch 15/50\n",
      "3843/3843 [==============================] - 0s 58us/step - loss: 0.5709 - acc: 0.7099 - f1: 0.7647 - val_loss: 0.6920 - val_acc: 0.6402 - val_f1: 0.6951\n",
      "Epoch 16/50\n",
      "3843/3843 [==============================] - 0s 57us/step - loss: 0.5718 - acc: 0.7052 - f1: 0.7619 - val_loss: 0.6855 - val_acc: 0.6389 - val_f1: 0.6929\n",
      "Epoch 17/50\n",
      "3843/3843 [==============================] - 0s 54us/step - loss: 0.5670 - acc: 0.7065 - f1: 0.7610 - val_loss: 0.6981 - val_acc: 0.6265 - val_f1: 0.7030\n",
      "Epoch 18/50\n",
      "3843/3843 [==============================] - 0s 49us/step - loss: 0.5677 - acc: 0.7057 - f1: 0.7619 - val_loss: 0.7075 - val_acc: 0.6193 - val_f1: 0.7006\n",
      "Epoch 19/50\n",
      "3843/3843 [==============================] - 0s 47us/step - loss: 0.5677 - acc: 0.7044 - f1: 0.7580 - val_loss: 0.6874 - val_acc: 0.6382 - val_f1: 0.6816\n",
      "Epoch 20/50\n",
      "3843/3843 [==============================] - 0s 55us/step - loss: 0.5636 - acc: 0.7070 - f1: 0.7603 - val_loss: 0.7107 - val_acc: 0.6193 - val_f1: 0.7051\n",
      "Epoch 21/50\n",
      "3843/3843 [==============================] - 0s 46us/step - loss: 0.5652 - acc: 0.6997 - f1: 0.7569 - val_loss: 0.6935 - val_acc: 0.6375 - val_f1: 0.6925\n",
      "Epoch 22/50\n",
      "3843/3843 [==============================] - 0s 59us/step - loss: 0.5608 - acc: 0.7070 - f1: 0.7597 - val_loss: 0.7040 - val_acc: 0.6219 - val_f1: 0.7022\n",
      "Epoch 23/50\n",
      "3843/3843 [==============================] - 0s 58us/step - loss: 0.5610 - acc: 0.7143 - f1: 0.7672 - val_loss: 0.7086 - val_acc: 0.6141 - val_f1: 0.7033\n",
      "Epoch 24/50\n",
      "3843/3843 [==============================] - 0s 64us/step - loss: 0.5608 - acc: 0.7109 - f1: 0.7642 - val_loss: 0.6857 - val_acc: 0.6330 - val_f1: 0.6502\n",
      "Epoch 25/50\n",
      "3843/3843 [==============================] - 0s 57us/step - loss: 0.5581 - acc: 0.7166 - f1: 0.7671 - val_loss: 0.6876 - val_acc: 0.6343 - val_f1: 0.6555\n",
      "Epoch 26/50\n",
      "3843/3843 [==============================] - 0s 55us/step - loss: 0.5560 - acc: 0.7130 - f1: 0.7628 - val_loss: 0.7136 - val_acc: 0.6134 - val_f1: 0.7034\n",
      "Epoch 27/50\n",
      "3843/3843 [==============================] - 0s 55us/step - loss: 0.5547 - acc: 0.7164 - f1: 0.7686 - val_loss: 0.6879 - val_acc: 0.6389 - val_f1: 0.6847\n",
      "Epoch 28/50\n",
      "3843/3843 [==============================] - 0s 58us/step - loss: 0.5548 - acc: 0.7213 - f1: 0.7712 - val_loss: 0.6922 - val_acc: 0.6284 - val_f1: 0.6464\n",
      "Epoch 29/50\n",
      "3843/3843 [==============================] - 0s 49us/step - loss: 0.5519 - acc: 0.7169 - f1: 0.7668 - val_loss: 0.7006 - val_acc: 0.6362 - val_f1: 0.6841\n",
      "Epoch 30/50\n",
      "3843/3843 [==============================] - 0s 56us/step - loss: 0.5502 - acc: 0.7174 - f1: 0.7666 - val_loss: 0.7014 - val_acc: 0.6330 - val_f1: 0.6824\n",
      "Epoch 31/50\n",
      "3843/3843 [==============================] - 0s 48us/step - loss: 0.5477 - acc: 0.7221 - f1: 0.7718 - val_loss: 0.6854 - val_acc: 0.6291 - val_f1: 0.6745\n",
      "Epoch 32/50\n",
      "3843/3843 [==============================] - 0s 58us/step - loss: 0.5502 - acc: 0.7143 - f1: 0.7641 - val_loss: 0.6957 - val_acc: 0.6258 - val_f1: 0.6364\n",
      "Epoch 33/50\n",
      "3843/3843 [==============================] - 0s 54us/step - loss: 0.5476 - acc: 0.7203 - f1: 0.7689 - val_loss: 0.7277 - val_acc: 0.5913 - val_f1: 0.5761\n",
      "Epoch 34/50\n",
      "3843/3843 [==============================] - 0s 59us/step - loss: 0.5483 - acc: 0.7169 - f1: 0.7656 - val_loss: 0.7005 - val_acc: 0.6095 - val_f1: 0.6733\n",
      "Epoch 35/50\n",
      "3843/3843 [==============================] - 0s 59us/step - loss: 0.5446 - acc: 0.7179 - f1: 0.7697 - val_loss: 0.7246 - val_acc: 0.6186 - val_f1: 0.7024\n",
      "Epoch 36/50\n",
      "3843/3843 [==============================] - 0s 63us/step - loss: 0.5425 - acc: 0.7247 - f1: 0.7735 - val_loss: 0.6839 - val_acc: 0.6213 - val_f1: 0.6549\n",
      "Epoch 37/50\n",
      "3843/3843 [==============================] - 0s 61us/step - loss: 0.5418 - acc: 0.7184 - f1: 0.7667 - val_loss: 0.6917 - val_acc: 0.6278 - val_f1: 0.6596\n",
      "Epoch 38/50\n",
      "3843/3843 [==============================] - 0s 59us/step - loss: 0.5389 - acc: 0.7255 - f1: 0.7720 - val_loss: 0.7061 - val_acc: 0.6206 - val_f1: 0.6318\n",
      "Epoch 39/50\n",
      "3843/3843 [==============================] - 0s 66us/step - loss: 0.5377 - acc: 0.7195 - f1: 0.7662 - val_loss: 0.6995 - val_acc: 0.6239 - val_f1: 0.6675\n",
      "Epoch 40/50\n",
      "3843/3843 [==============================] - 0s 68us/step - loss: 0.5360 - acc: 0.7255 - f1: 0.7719 - val_loss: 0.7004 - val_acc: 0.6271 - val_f1: 0.6706\n",
      "Epoch 41/50\n",
      "3843/3843 [==============================] - 0s 71us/step - loss: 0.5362 - acc: 0.7242 - f1: 0.7707 - val_loss: 0.7079 - val_acc: 0.6102 - val_f1: 0.6848\n",
      "Epoch 42/50\n",
      "3843/3843 [==============================] - 0s 71us/step - loss: 0.5334 - acc: 0.7315 - f1: 0.7774 - val_loss: 0.6951 - val_acc: 0.6226 - val_f1: 0.6283\n",
      "Epoch 43/50\n",
      "3843/3843 [==============================] - 0s 69us/step - loss: 0.5314 - acc: 0.7208 - f1: 0.7640 - val_loss: 0.7136 - val_acc: 0.6134 - val_f1: 0.6827\n",
      "Epoch 44/50\n",
      "3843/3843 [==============================] - 0s 71us/step - loss: 0.5303 - acc: 0.7268 - f1: 0.7751 - val_loss: 0.6977 - val_acc: 0.6095 - val_f1: 0.6111\n",
      "Epoch 45/50\n",
      "3843/3843 [==============================] - 0s 69us/step - loss: 0.5282 - acc: 0.7257 - f1: 0.7687 - val_loss: 0.6964 - val_acc: 0.6265 - val_f1: 0.6595\n",
      "Epoch 46/50\n",
      "3843/3843 [==============================] - 0s 65us/step - loss: 0.5290 - acc: 0.7281 - f1: 0.7757 - val_loss: 0.6992 - val_acc: 0.6258 - val_f1: 0.6490\n",
      "Epoch 47/50\n",
      "3843/3843 [==============================] - 0s 62us/step - loss: 0.5293 - acc: 0.7286 - f1: 0.7754 - val_loss: 0.7082 - val_acc: 0.6213 - val_f1: 0.6769\n",
      "Epoch 48/50\n",
      "3843/3843 [==============================] - 0s 67us/step - loss: 0.5236 - acc: 0.7382 - f1: 0.7815 - val_loss: 0.7043 - val_acc: 0.6199 - val_f1: 0.6745\n",
      "Epoch 49/50\n",
      "3843/3843 [==============================] - 0s 68us/step - loss: 0.5245 - acc: 0.7341 - f1: 0.7799 - val_loss: 0.6949 - val_acc: 0.6219 - val_f1: 0.6632\n",
      "Epoch 50/50\n",
      "3843/3843 [==============================] - 0s 69us/step - loss: 0.5231 - acc: 0.7346 - f1: 0.7782 - val_loss: 0.6973 - val_acc: 0.6265 - val_f1: 0.6551\n"
     ]
    },
    {
     "data": {
      "text/plain": [
       "<keras.callbacks.History at 0x131ff7f60>"
      ]
     },
     "execution_count": 52,
     "metadata": {},
     "output_type": "execute_result"
    }
   ],
   "source": [
    "x_train, y_train = cf.generate_data([cf.load_features(7, cosi=True)], length = 1)\n",
    "x_test, y_test = cf.generate_data([cf.load_features(2)], length = 1)\n",
    "nn.fit(x_train, y_train, epochs=50, batch_size=32, validation_data=(x_test, y_test), callbacks=[early_stop])"
   ]
  },
  {
   "cell_type": "markdown",
   "metadata": {},
   "source": [
    "### LSTM"
   ]
  },
  {
   "cell_type": "code",
   "execution_count": 8,
   "metadata": {},
   "outputs": [
    {
     "name": "stdout",
     "output_type": "stream",
     "text": [
      "_________________________________________________________________\n",
      "Layer (type)                 Output Shape              Param #   \n",
      "=================================================================\n",
      "lstm_1 (LSTM)                (None, None, 30)          5520      \n",
      "_________________________________________________________________\n",
      "dropout_1 (Dropout)          (None, None, 30)          0         \n",
      "_________________________________________________________________\n",
      "dense_3 (Dense)              (None, None, 1)           31        \n",
      "_________________________________________________________________\n",
      "activation_3 (Activation)    (None, None, 1)           0         \n",
      "=================================================================\n",
      "Total params: 5,551\n",
      "Trainable params: 5,551\n",
      "Non-trainable params: 0\n",
      "_________________________________________________________________\n"
     ]
    }
   ],
   "source": [
    "lstm = Sequential()\n",
    "lstm.add(LSTM(30, input_shape=(None, cf.feature_count()), return_sequences=True))\n",
    "lstm.add(Dropout(0.2))\n",
    "lstm.add(Dense(1))\n",
    "lstm.add(Activation('sigmoid'))\n",
    "lstm.compile(optimizer='rmsprop',\n",
    "              loss='binary_crossentropy',\n",
    "              metrics=['accuracy', f1])\n",
    "lstm.summary()"
   ]
  },
  {
   "cell_type": "code",
   "execution_count": 9,
   "metadata": {},
   "outputs": [
    {
     "name": "stdout",
     "output_type": "stream",
     "text": [
      "Train on 3794 samples, validate on 1485 samples\n",
      "Epoch 1/50\n",
      "3794/3794 [==============================] - 5s 1ms/step - loss: 0.6736 - acc: 0.5805 - f1: 0.6296 - val_loss: 0.6820 - val_acc: 0.5683 - val_f1: 0.6957\n",
      "Epoch 2/50\n",
      "3794/3794 [==============================] - 5s 1ms/step - loss: 0.6351 - acc: 0.6466 - f1: 0.7414 - val_loss: 0.6961 - val_acc: 0.5887 - val_f1: 0.6907\n",
      "Epoch 3/50\n",
      "3794/3794 [==============================] - 5s 1ms/step - loss: 0.6132 - acc: 0.6716 - f1: 0.7539 - val_loss: 0.7201 - val_acc: 0.5674 - val_f1: 0.6762\n",
      "Epoch 4/50\n",
      "3794/3794 [==============================] - 5s 1ms/step - loss: 0.5925 - acc: 0.6891 - f1: 0.7628 - val_loss: 0.7536 - val_acc: 0.5633 - val_f1: 0.6835\n",
      "Epoch 5/50\n",
      "3794/3794 [==============================] - 4s 1ms/step - loss: 0.5755 - acc: 0.7035 - f1: 0.7696 - val_loss: 0.7805 - val_acc: 0.5630 - val_f1: 0.6804\n",
      "Epoch 6/50\n",
      "3794/3794 [==============================] - 4s 1ms/step - loss: 0.5603 - acc: 0.7145 - f1: 0.7773 - val_loss: 0.7898 - val_acc: 0.5831 - val_f1: 0.6921\n",
      "Epoch 7/50\n",
      "3794/3794 [==============================] - 5s 1ms/step - loss: 0.5463 - acc: 0.7238 - f1: 0.7842 - val_loss: 0.7886 - val_acc: 0.5854 - val_f1: 0.6841\n"
     ]
    }
   ],
   "source": [
    "for length in [50]:\n",
    "    x_train, y_train = cf.generate_data([cf.load_features(7, cosi=True)], length = length)\n",
    "    x_test, y_test = cf.generate_data([cf.load_features(2)], length = length)\n",
    "    lstm.fit(x_train, y_train, epochs=50, batch_size=32, validation_data=(x_test, y_test), callbacks=[early_stop])"
   ]
  },
  {
   "cell_type": "markdown",
   "metadata": {},
   "source": [
    "### Results"
   ]
  },
  {
   "cell_type": "code",
   "execution_count": 53,
   "metadata": {},
   "outputs": [
    {
     "name": "stdout",
     "output_type": "stream",
     "text": [
      "              Accuracy    F1 Score\n",
      "        NN 0.575449102 0.650910881\n",
      "      LSTM 0.563473054 0.687258687\n"
     ]
    }
   ],
   "source": [
    "from piano_reduction import tools as pr\n",
    "import numpy as np\n",
    "def get_y_pred(model, df, x_test):\n",
    "    tmp = model.predict(x_test)\n",
    "    y = tmp[0,:,0].tolist()\n",
    "    for i in range(1, tmp.shape[0]):\n",
    "        y.append(tmp[i,-1,0])\n",
    "    pred = (np.array(y) > 0.5) * 1\n",
    "    tmp = []\n",
    "    count = 0\n",
    "    for i in df.index:\n",
    "        if df.loc[i, 'x_train'] == 0:\n",
    "            tmp.append(0)\n",
    "        else:\n",
    "            tmp.append(pred[count])\n",
    "            count += 1\n",
    "    return tmp\n",
    "\n",
    "res = pr.load_merged_df(2)\n",
    "from sklearn import metrics\n",
    "print('%10s %11s %11s' % ('', 'Accuracy', 'F1 Score'))\n",
    "for name, model in [('NN', nn), ('LSTM', lstm)]:\n",
    "    print('%10s %.9f %.9f' % (name, \n",
    "                              metrics.accuracy_score(res[0]['y_train'], get_y_pred(model, res[0], x_test)), \n",
    "                              metrics.f1_score(res[0]['y_train'], get_y_pred(model, res[0], x_test))))"
   ]
  },
  {
   "cell_type": "code",
   "execution_count": 54,
   "metadata": {},
   "outputs": [],
   "source": [
    "res = pr.load_merged_df(2)\n",
    "res[0]['y_pred'] = get_y_pred(lstm, res[0], x_test)\n",
    "score = pr.df_to_scores(res[0], res[1], res[2], col=['x_train', 'y_pred', 'y_train'])"
   ]
  },
  {
   "cell_type": "code",
   "execution_count": 55,
   "metadata": {},
   "outputs": [],
   "source": [
    "score.show('musicxml')"
   ]
  },
  {
   "cell_type": "markdown",
   "metadata": {},
   "source": [
    "### Problems\n",
    "Only input the notes sequentially\n",
    "\n",
    "Cannot handle notes with same offset well"
   ]
  },
  {
   "cell_type": "markdown",
   "metadata": {},
   "source": [
    "## Onehot encoding"
   ]
  },
  {
   "cell_type": "code",
   "execution_count": 18,
   "metadata": {},
   "outputs": [
    {
     "data": {
      "text/plain": [
       "((359, 20, 128), (359, 20, 128))"
      ]
     },
     "execution_count": 18,
     "metadata": {},
     "output_type": "execute_result"
    }
   ],
   "source": [
    "from keras.models import load_model\n",
    "import imp\n",
    "imp.reload(cf)\n",
    "model = load_model('models/LSTM_onehot.h5', custom_objects={'f1': f1})\n",
    "res = pr.load_merged_df(2)\n",
    "x_train, y_train = cf.generate_data_2([(cf.df_to_onehot(res[0], col='x_train'), cf.df_to_onehot(res[0], col='y_train'))], length=20)\n",
    "x_train.shape, y_train.shape"
   ]
  },
  {
   "cell_type": "code",
   "execution_count": 23,
   "metadata": {},
   "outputs": [
    {
     "name": "stdout",
     "output_type": "stream",
     "text": [
      "_________________________________________________________________\n",
      "Layer (type)                 Output Shape              Param #   \n",
      "=================================================================\n",
      "lstm_4 (LSTM)                (None, None, 128)         131584    \n",
      "_________________________________________________________________\n",
      "dropout_4 (Dropout)          (None, None, 128)         0         \n",
      "_________________________________________________________________\n",
      "activation_6 (Activation)    (None, None, 128)         0         \n",
      "=================================================================\n",
      "Total params: 131,584\n",
      "Trainable params: 131,584\n",
      "Non-trainable params: 0\n",
      "_________________________________________________________________\n"
     ]
    }
   ],
   "source": [
    "lstm2 = Sequential()\n",
    "lstm2.add(LSTM(128, input_shape=(None, 128), return_sequences=True))\n",
    "lstm2.add(Dropout(0.2))\n",
    "lstm2.add(Activation('sigmoid'))\n",
    "lstm2.compile(optimizer='rmsprop',\n",
    "              loss='binary_crossentropy',\n",
    "              metrics=['accuracy', f1])\n",
    "lstm2.summary()"
   ]
  },
  {
   "cell_type": "code",
   "execution_count": 20,
   "metadata": {},
   "outputs": [],
   "source": [
    "samples = []\n",
    "for i in range(-12, 13):\n",
    "    res = pr.load_cosi(7)\n",
    "    res[0]['ps'] += i\n",
    "    samples.append((cf.df_to_onehot(res[0], col='x_train'), cf.df_to_onehot(res[0], col='y_train')))\n",
    "res = pr.load_merged_df(2)\n",
    "test_sample = [(cf.df_to_onehot(res[0], col='x_train'), cf.df_to_onehot(res[0], col='y_train'))]"
   ]
  },
  {
   "cell_type": "code",
   "execution_count": 25,
   "metadata": {},
   "outputs": [
    {
     "name": "stdout",
     "output_type": "stream",
     "text": [
      "1 (33525, 1, 128) (33525, 1, 128)\n",
      "Train on 33525 samples, validate on 378 samples\n",
      "Epoch 1/10\n",
      "33525/33525 [==============================] - 3s 100us/step - loss: 0.4091 - acc: 0.9834 - f1: 0.0817 - val_loss: 0.3951 - val_acc: 0.9796 - val_f1: 0.0872\n",
      "Epoch 2/10\n",
      "33525/33525 [==============================] - 3s 100us/step - loss: 0.4091 - acc: 0.9835 - f1: 0.0828 - val_loss: 0.3951 - val_acc: 0.9796 - val_f1: 0.0872\n",
      "Epoch 3/10\n",
      "33525/33525 [==============================] - 3s 101us/step - loss: 0.4090 - acc: 0.9835 - f1: 0.0819 - val_loss: 0.3951 - val_acc: 0.9796 - val_f1: 0.0872\n",
      "Epoch 4/10\n",
      "33525/33525 [==============================] - 3s 102us/step - loss: 0.4090 - acc: 0.9835 - f1: 0.0838 - val_loss: 0.3951 - val_acc: 0.9796 - val_f1: 0.0872\n",
      "Epoch 5/10\n",
      "33525/33525 [==============================] - 3s 104us/step - loss: 0.4089 - acc: 0.9835 - f1: 0.0834 - val_loss: 0.3951 - val_acc: 0.9797 - val_f1: 0.0907\n",
      "Epoch 6/10\n",
      "33525/33525 [==============================] - 4s 106us/step - loss: 0.4090 - acc: 0.9834 - f1: 0.0823 - val_loss: 0.3951 - val_acc: 0.9797 - val_f1: 0.0908\n",
      "Epoch 7/10\n",
      "33525/33525 [==============================] - 4s 108us/step - loss: 0.4089 - acc: 0.9835 - f1: 0.0829 - val_loss: 0.3951 - val_acc: 0.9797 - val_f1: 0.0925\n",
      "Epoch 8/10\n",
      "33525/33525 [==============================] - 4s 105us/step - loss: 0.4090 - acc: 0.9835 - f1: 0.0837 - val_loss: 0.3951 - val_acc: 0.9797 - val_f1: 0.0925\n",
      "Epoch 9/10\n",
      "33525/33525 [==============================] - 4s 115us/step - loss: 0.4089 - acc: 0.9835 - f1: 0.0835 - val_loss: 0.3950 - val_acc: 0.9797 - val_f1: 0.0925\n",
      "Epoch 10/10\n",
      "33525/33525 [==============================] - 4s 110us/step - loss: 0.4088 - acc: 0.9834 - f1: 0.0821 - val_loss: 0.3950 - val_acc: 0.9797 - val_f1: 0.0925\n",
      "3 (33475, 3, 128) (33475, 3, 128)\n",
      "Train on 33475 samples, validate on 376 samples\n",
      "Epoch 1/10\n",
      "33475/33475 [==============================] - 6s 180us/step - loss: 0.3737 - acc: 0.9835 - f1: 0.0830 - val_loss: 0.3541 - val_acc: 0.9796 - val_f1: 0.0812\n",
      "Epoch 2/10\n",
      "33475/33475 [==============================] - 6s 190us/step - loss: 0.3737 - acc: 0.9835 - f1: 0.0830 - val_loss: 0.3542 - val_acc: 0.9797 - val_f1: 0.0875\n",
      "Epoch 3/10\n",
      "33475/33475 [==============================] - 7s 196us/step - loss: 0.3738 - acc: 0.9835 - f1: 0.0843 - val_loss: 0.3541 - val_acc: 0.9797 - val_f1: 0.0864\n",
      "Epoch 4/10\n",
      "33475/33475 [==============================] - 7s 195us/step - loss: 0.3737 - acc: 0.9835 - f1: 0.0845 - val_loss: 0.3542 - val_acc: 0.9797 - val_f1: 0.0851\n",
      "Epoch 5/10\n",
      "33475/33475 [==============================] - 6s 192us/step - loss: 0.3736 - acc: 0.9835 - f1: 0.0842 - val_loss: 0.3541 - val_acc: 0.9797 - val_f1: 0.0929\n",
      "Epoch 6/10\n",
      "33475/33475 [==============================] - 7s 200us/step - loss: 0.3737 - acc: 0.9835 - f1: 0.0848 - val_loss: 0.3541 - val_acc: 0.9797 - val_f1: 0.0885\n",
      "Epoch 7/10\n",
      "33475/33475 [==============================] - 7s 199us/step - loss: 0.3737 - acc: 0.9835 - f1: 0.0852 - val_loss: 0.3542 - val_acc: 0.9796 - val_f1: 0.0929\n",
      "Epoch 8/10\n",
      "33475/33475 [==============================] - 7s 203us/step - loss: 0.3737 - acc: 0.9835 - f1: 0.0855 - val_loss: 0.3541 - val_acc: 0.9797 - val_f1: 0.0874\n",
      "Epoch 9/10\n",
      "33475/33475 [==============================] - 7s 206us/step - loss: 0.3736 - acc: 0.9835 - f1: 0.0856 - val_loss: 0.3541 - val_acc: 0.9797 - val_f1: 0.0936\n",
      "Epoch 10/10\n",
      "33475/33475 [==============================] - 7s 206us/step - loss: 0.3736 - acc: 0.9835 - f1: 0.0854 - val_loss: 0.3541 - val_acc: 0.9797 - val_f1: 0.0920\n"
     ]
    }
   ],
   "source": [
    "for i in [1, 3]:\n",
    "    x_train, y_train = cf.generate_data_2(samples, length=i)\n",
    "    x_test, y_test = cf.generate_data_2(test_sample, length=i)\n",
    "    print(i, x_train.shape, y_train.shape)\n",
    "    lstm2.fit(x_train, y_train, epochs=10, batch_size=32, callbacks=[early_stop], validation_data=(x_test, y_test))"
   ]
  },
  {
   "cell_type": "code",
   "execution_count": 59,
   "metadata": {},
   "outputs": [
    {
     "name": "stdout",
     "output_type": "stream",
     "text": [
      "Accuracy 0.5174009943425338\n",
      "F1 Score 0.5546590729314982\n"
     ]
    },
    {
     "data": {
      "text/html": [
       "<div>\n",
       "<style scoped>\n",
       "    .dataframe tbody tr th:only-of-type {\n",
       "        vertical-align: middle;\n",
       "    }\n",
       "\n",
       "    .dataframe tbody tr th {\n",
       "        vertical-align: top;\n",
       "    }\n",
       "\n",
       "    .dataframe thead th {\n",
       "        text-align: right;\n",
       "    }\n",
       "</style>\n",
       "<table border=\"1\" class=\"dataframe\">\n",
       "  <thead>\n",
       "    <tr style=\"text-align: right;\">\n",
       "      <th></th>\n",
       "      <th>measure</th>\n",
       "      <th>offset</th>\n",
       "      <th>part</th>\n",
       "      <th>ps</th>\n",
       "      <th>tie</th>\n",
       "      <th>x_train</th>\n",
       "      <th>color</th>\n",
       "      <th>y_train</th>\n",
       "      <th>duration</th>\n",
       "      <th>pitch</th>\n",
       "      <th>y_pred</th>\n",
       "    </tr>\n",
       "  </thead>\n",
       "  <tbody>\n",
       "    <tr>\n",
       "      <th>0</th>\n",
       "      <td>0.0</td>\n",
       "      <td>0</td>\n",
       "      <td>2</td>\n",
       "      <td>72.0</td>\n",
       "      <td>&lt;music21.tie.Tie start&gt;</td>\n",
       "      <td>1</td>\n",
       "      <td>#605050</td>\n",
       "      <td>1</td>\n",
       "      <td>&lt;music21.duration.Duration 2.0&gt;</td>\n",
       "      <td>C5</td>\n",
       "      <td>1</td>\n",
       "    </tr>\n",
       "    <tr>\n",
       "      <th>1</th>\n",
       "      <td>0.0</td>\n",
       "      <td>0</td>\n",
       "      <td>2</td>\n",
       "      <td>76.0</td>\n",
       "      <td>&lt;music21.tie.Tie start&gt;</td>\n",
       "      <td>1</td>\n",
       "      <td>#803030</td>\n",
       "      <td>1</td>\n",
       "      <td>&lt;music21.duration.Duration 2.0&gt;</td>\n",
       "      <td>E5</td>\n",
       "      <td>1</td>\n",
       "    </tr>\n",
       "    <tr>\n",
       "      <th>2</th>\n",
       "      <td>0.0</td>\n",
       "      <td>0</td>\n",
       "      <td>4</td>\n",
       "      <td>64.0</td>\n",
       "      <td>&lt;music21.tie.Tie start&gt;</td>\n",
       "      <td>1</td>\n",
       "      <td>#803030</td>\n",
       "      <td>1</td>\n",
       "      <td>&lt;music21.duration.Duration 2.0&gt;</td>\n",
       "      <td>E4</td>\n",
       "      <td>0</td>\n",
       "    </tr>\n",
       "    <tr>\n",
       "      <th>3</th>\n",
       "      <td>0.0</td>\n",
       "      <td>0</td>\n",
       "      <td>4</td>\n",
       "      <td>69.0</td>\n",
       "      <td>&lt;music21.tie.Tie start&gt;</td>\n",
       "      <td>1</td>\n",
       "      <td>#005000</td>\n",
       "      <td>1</td>\n",
       "      <td>&lt;music21.duration.Duration 2.0&gt;</td>\n",
       "      <td>A4</td>\n",
       "      <td>0</td>\n",
       "    </tr>\n",
       "    <tr>\n",
       "      <th>4</th>\n",
       "      <td>0.0</td>\n",
       "      <td>0</td>\n",
       "      <td>6</td>\n",
       "      <td>57.0</td>\n",
       "      <td>&lt;music21.tie.Tie start&gt;</td>\n",
       "      <td>1</td>\n",
       "      <td>#005000</td>\n",
       "      <td>1</td>\n",
       "      <td>&lt;music21.duration.Duration 2.0&gt;</td>\n",
       "      <td>A3</td>\n",
       "      <td>0</td>\n",
       "    </tr>\n",
       "  </tbody>\n",
       "</table>\n",
       "</div>"
      ],
      "text/plain": [
       "   measure offset  part    ps                      tie  x_train    color  \\\n",
       "0      0.0      0     2  72.0  <music21.tie.Tie start>        1  #605050   \n",
       "1      0.0      0     2  76.0  <music21.tie.Tie start>        1  #803030   \n",
       "2      0.0      0     4  64.0  <music21.tie.Tie start>        1  #803030   \n",
       "3      0.0      0     4  69.0  <music21.tie.Tie start>        1  #005000   \n",
       "4      0.0      0     6  57.0  <music21.tie.Tie start>        1  #005000   \n",
       "\n",
       "   y_train                         duration pitch  y_pred  \n",
       "0        1  <music21.duration.Duration 2.0>    C5       1  \n",
       "1        1  <music21.duration.Duration 2.0>    E5       1  \n",
       "2        1  <music21.duration.Duration 2.0>    E4       0  \n",
       "3        1  <music21.duration.Duration 2.0>    A4       0  \n",
       "4        1  <music21.duration.Duration 2.0>    A3       0  "
      ]
     },
     "execution_count": 59,
     "metadata": {},
     "output_type": "execute_result"
    }
   ],
   "source": [
    "def predict_to_y(model, x_test):\n",
    "    tmp = model.predict(x_test)\n",
    "    y = tmp[0,:,:].tolist()\n",
    "    for i in range(1, tmp.shape[0]):\n",
    "        y.append(tmp[i,-1,:])\n",
    "    return np.array(y)\n",
    "\n",
    "from keras.models import load_model\n",
    "model = load_model('models/LSTM_onehot_3.h5', custom_objects={'f1': f1})\n",
    "res = pr.load_merged_df(3)\n",
    "x_test, y_test = cf.generate_data_2([(cf.df_to_onehot(res[0], col='x_train'), \n",
    "                                        cf.df_to_onehot(res[0], col='y_train'))], length=2)\n",
    "res2 = cf.onehot_to_df(res[0], (predict_to_y(model, x_test) >= 0.5) * 1)\n",
    "from sklearn import metrics\n",
    "print('Accuracy', metrics.accuracy_score(res2['y_train'], res2['y_pred']))\n",
    "print('F1 Score', metrics.f1_score(res2['y_train'], res2['y_pred']))\n",
    "res2.head()"
   ]
  },
  {
   "cell_type": "code",
   "execution_count": 57,
   "metadata": {},
   "outputs": [],
   "source": [
    "pr.df_to_scores(res2, res[1], res[2], col = ['x_train', 'y_pred', 'y_train']).show('musicxml')"
   ]
  },
  {
   "cell_type": "code",
   "execution_count": null,
   "metadata": {},
   "outputs": [],
   "source": [
    "music21.converter.parse('meetings/20181018/o_0003_with_onehot.musicxml').show('musicxml')"
   ]
  },
  {
   "cell_type": "markdown",
   "metadata": {},
   "source": [
    "### Problems\n",
    "Very slow to train\n",
    "\n",
    "The results do not really match with training output\n",
    "\n",
    "Lose all features"
   ]
  },
  {
   "cell_type": "markdown",
   "metadata": {},
   "source": [
    "## These results may be representing the similarity of the styles only"
   ]
  },
  {
   "cell_type": "code",
   "execution_count": 35,
   "metadata": {},
   "outputs": [
    {
     "name": "stderr",
     "output_type": "stream",
     "text": [
      "100%|██████████| 1/1 [04:06<00:00, 246.12s/it]\n"
     ]
    }
   ],
   "source": [
    "from keras.models import clone_model\n",
    "from tqdm import tqdm\n",
    "models = {}\n",
    "x_test, y_test = cf.generate_data([cf.load_features(2)], length = 50)\n",
    "for i in tqdm(range(1, 2)):\n",
    "    x_train, y_train = cf.generate_data([cf.load_features(i, cosi=True)], length = 50)\n",
    "    mname = 'NN %d' % i\n",
    "    models[mname] = clone_model(nn)\n",
    "    models[mname].compile(optimizer='rmsprop', loss='binary_crossentropy', metrics=['accuracy', f1])\n",
    "    models[mname].fit(x_train, y_train, epochs=50, batch_size=32, validation_data=(x_test, y_test), callbacks=[early_stop], verbose=0)\n",
    "    mname = 'LSTM %d' % i\n",
    "    models[mname] = clone_model(lstm)\n",
    "    models[mname].compile(optimizer='rmsprop', loss='binary_crossentropy', metrics=['accuracy', f1])\n",
    "    models[mname].fit(x_train, y_train, epochs=50, batch_size=32, validation_data=(x_test, y_test), callbacks=[early_stop], verbose=0)\n",
    "    \n",
    "for name, model in models.items():\n",
    "    model.save('models/%s.h5' % name)"
   ]
  },
  {
   "cell_type": "code",
   "execution_count": 40,
   "metadata": {},
   "outputs": [
    {
     "name": "stdout",
     "output_type": "stream",
     "text": [
      "              Accuracy    F1 Score\n",
      "      NN 1 0.542514970 0.622902270\n",
      "      NN 2 0.575449102 0.681061628\n",
      "      NN 3 0.557485030 0.654834190\n",
      "      NN 4 0.580239521 0.682661838\n",
      "      NN 5 0.580239521 0.687750557\n",
      "      NN 6 0.564071856 0.684575390\n",
      "      NN 7 0.587425150 0.690615177\n",
      "      NN 8 0.521556886 0.553381778\n",
      "      NN 9 0.573053892 0.677812924\n",
      "    LSTM 1 0.532934132 0.585547290\n",
      "    LSTM 2 0.553892216 0.596643205\n",
      "    LSTM 3 0.580838323 0.656862745\n",
      "    LSTM 4 0.559281437 0.687074830\n",
      "    LSTM 5 0.556886228 0.669642857\n",
      "    LSTM 6 0.552095808 0.652416357\n",
      "    LSTM 7 0.574850299 0.663507109\n",
      "    LSTM 8 0.537125749 0.594651285\n",
      "    LSTM 9 0.552694611 0.675076120\n"
     ]
    }
   ],
   "source": [
    "res = pr.load_merged_df(2)\n",
    "from sklearn import metrics\n",
    "from keras.models import load_model\n",
    "print('%10s %11s %11s' % ('', 'Accuracy', 'F1 Score'))\n",
    "models = [('NN %d' % i) for i in range(1, 10)] + [('LSTM %d' % i) for i in range(1, 10)]\n",
    "for i, name in enumerate(models):\n",
    "    model = load_model('models/%s.h5' % name, custom_objects={'f1': f1})\n",
    "    print('%10s %.9f %.9f' % (name, \n",
    "                              metrics.accuracy_score(res[0]['y_train'], get_y_pred(model, res[0], x_test)), \n",
    "                              metrics.f1_score(res[0]['y_train'], get_y_pred(model, res[0], x_test))))\n",
    "    res[0]['y_pred_%s' % name] = get_y_pred(model, res[0], x_test)"
   ]
  },
  {
   "cell_type": "code",
   "execution_count": 47,
   "metadata": {},
   "outputs": [],
   "source": [
    "score_2 = pr.df_to_scores(res[0], res[1], res[2], col=['y_train', 'y_pred_LSTM 1', 'y_pred_LSTM 2', 'y_pred_LSTM 3'])"
   ]
  },
  {
   "cell_type": "code",
   "execution_count": 58,
   "metadata": {},
   "outputs": [],
   "source": [
    "score_2.show('musicxml')"
   ]
  },
  {
   "cell_type": "markdown",
   "metadata": {},
   "source": [
    "## Studied Conditional Random Field\n",
    "\n",
    "Will continue to use the package **pystruct**\n",
    "\n",
    "All packages only support sequential CRF only\n",
    "\n",
    "May not be able to handle notes at the same time as well"
   ]
  },
  {
   "cell_type": "code",
   "execution_count": null,
   "metadata": {},
   "outputs": [],
   "source": []
  },
  {
   "cell_type": "code",
   "execution_count": null,
   "metadata": {},
   "outputs": [],
   "source": []
  }
 ],
 "metadata": {
  "kernelspec": {
   "display_name": "Python 3",
   "language": "python",
   "name": "python3"
  },
  "language_info": {
   "codemirror_mode": {
    "name": "ipython",
    "version": 3
   },
   "file_extension": ".py",
   "mimetype": "text/x-python",
   "name": "python",
   "nbconvert_exporter": "python",
   "pygments_lexer": "ipython3",
   "version": "3.5.2"
  }
 },
 "nbformat": 4,
 "nbformat_minor": 2
}
