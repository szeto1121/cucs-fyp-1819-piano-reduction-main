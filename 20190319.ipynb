{
 "cells": [
  {
   "cell_type": "code",
   "execution_count": 1,
   "metadata": {},
   "outputs": [
    {
     "name": "stderr",
     "output_type": "stream",
     "text": [
      "Using TensorFlow backend.\n"
     ]
    }
   ],
   "source": [
    "import piano_reduction.tools as pr\n",
    "import piano_reduction.compute_features as cf\n",
    "from piano_reduction.classes import ScoreData, Reduction\n",
    "from sklearn import metrics\n",
    "from tqdm import tqdm"
   ]
  },
  {
   "cell_type": "code",
   "execution_count": 2,
   "metadata": {},
   "outputs": [
    {
     "name": "stderr",
     "output_type": "stream",
     "text": [
      "100%|██████████| 15/15 [02:07<00:00,  8.49s/it]\n"
     ]
    }
   ],
   "source": [
    "reductions = {}\n",
    "for i, h in tqdm([(a, b) for a in [2, 6, 8] for b in [100, 150, 200, 250, 300]]):\n",
    "    try:\n",
    "        reductions['GRU 1 %d using cosi_%d' % (h, i)] = Reduction.load('models/20190318h/GRU_1 (%d) %d.pkl' % (h, i))\n",
    "    except:\n",
    "        pass\n",
    "    try:\n",
    "        reductions['GRU 2 %d using cosi_%d' % (h, i)] = Reduction.load('models/20190318h/GRU_2 (%d) %d.pkl' % (h, i))\n",
    "    except:\n",
    "        pass\n",
    "    #print(reductions)"
   ]
  },
  {
   "cell_type": "code",
   "execution_count": 73,
   "metadata": {},
   "outputs": [],
   "source": [
    "def check_data(name, reds):\n",
    "    _, new_data = ScoreData.load(name).split_in(0.8, 0.9)\n",
    "    \n",
    "    features = ['active_rhythm', 'bass_line', 'entrance_effect', 'highest', 'in_chord', 'lowest', 'occurrence', \n",
    "       'onset_after_rest', 'rhythm_variety', 'strong_beats', 'sustained_rhythm', 'vertical_doubling', 'duration_length', 'offset']\n",
    "    from sklearn.linear_model import LogisticRegression\n",
    "    from sklearn.naive_bayes import MultinomialNB\n",
    "    \n",
    "    for i in [2, 6, 8]:\n",
    "        training_data, _ = ScoreData.load('score_data/cosi_%d.pkl' % i).split_in(0.8, 0.9)\n",
    "        training_data = training_data.df[training_data.df['x_train'] == 1].copy()\n",
    "\n",
    "        x_train = training_data[features]\n",
    "        y_train = training_data['y_train']\n",
    "        model = LogisticRegression().fit(x_train, y_train)\n",
    "        testing_data = new_data.df[new_data.df['x_train'] == 1].copy()\n",
    "        testing_data['y_pred'] = model.predict(testing_data[features])\n",
    "        new_data.df['y_pred_LR using cosi_%d' % i] = testing_data['y_pred']\n",
    "        new_data.df['y_pred_LR using cosi_%d' % i] = new_data.df['y_pred_LR using cosi_%d' % i].fillna(0).astype(int)\n",
    "\n",
    "\n",
    "        x_train = training_data[features]\n",
    "        y_train = training_data['y_train']\n",
    "        model = MultinomialNB().fit(x_train, y_train)\n",
    "        testing_data = new_data.df[new_data.df['x_train'] == 1].copy()\n",
    "        testing_data['y_pred'] = model.predict(testing_data[features])\n",
    "        new_data.df['y_pred_NB using cosi_%d' % i] = testing_data['y_pred']\n",
    "        new_data.df['y_pred_NB using cosi_%d' % i] = new_data.df['y_pred_NB using cosi_%d' % i].fillna(0).astype(int)\n",
    "\n",
    "    new_data.df['y_pred_Keep All'] = new_data.df['x_train']\n",
    "    new_data.df.columns\n",
    "    \n",
    "    for i in reds:\n",
    "        if 'GRU' in i:\n",
    "            new_data = reductions[i].predict(new_data, threshold=0.1, name='y_pred_%s' % i)\n",
    "        else:\n",
    "            new_data = reductions[i].predict_2(new_data, threshold=0.1, name='y_pred_%s' % i)\n",
    "    return new_data\n",
    "\n",
    "def check_data_2(name, reds, threshold=0.1):\n",
    "    _, new_data = ScoreData.load(name).split_in(0.8, 0.9)\n",
    "    for i in reds:\n",
    "        if 'GRU' in i:\n",
    "            new_data = reductions[i].predict(new_data, threshold=threshold, name='y_pred_%s' % i)\n",
    "        else:\n",
    "            new_data = reductions[i].predict_2(new_data, threshold=threshold, name='y_pred_%s' % i)\n",
    "    return new_data"
   ]
  },
  {
   "cell_type": "code",
   "execution_count": 84,
   "metadata": {},
   "outputs": [
    {
     "name": "stdout",
     "output_type": "stream",
     "text": [
      "                         \t            F1 score\t            Accuracy\t  Jaccard Similarity\n",
      "0.1\n",
      "   GRU 1 100 using cosi_8\t         0.666666667\t         0.531969309\t         0.500000000\n",
      "   GRU 1 150 using cosi_8\t         0.720156556\t         0.608219178\t         0.562691131\n",
      "   GRU 1 200 using cosi_8\t         0.680080483\t         0.565573770\t         0.515243902\n",
      "   GRU 1 250 using cosi_8\t         0.742514970\t         0.647540984\t         0.590476190\n",
      "   GRU 2 100 using cosi_8\t         0.674329502\t         0.540540541\t         0.508670520\n",
      "   GRU 2 150 using cosi_8\t         0.688212928\t         0.556756757\t         0.524637681\n",
      "   GRU 2 200 using cosi_8\t         0.662721893\t         0.540322581\t         0.495575221\n",
      "   GRU 2 250 using cosi_8\t         0.726530612\t         0.630853994\t         0.570512821\n",
      "\n",
      "0.15000000000000002\n",
      "   GRU 1 100 using cosi_8\t         0.712598425\t         0.608579088\t         0.553516820\n",
      "   GRU 1 150 using cosi_8\t         0.729838710\t         0.632876712\t         0.574603175\n",
      "   GRU 1 200 using cosi_8\t         0.686070686\t         0.581717452\t         0.522151899\n",
      "   GRU 1 250 using cosi_8\t         0.754166667\t         0.676712329\t         0.605351171\n",
      "   GRU 2 100 using cosi_8\t         0.677165354\t         0.551912568\t         0.511904762\n",
      "   GRU 2 150 using cosi_8\t         0.697029703\t         0.581967213\t         0.534954407\n",
      "   GRU 2 200 using cosi_8\t         0.680161943\t         0.570652174\t         0.515337423\n",
      "   GRU 2 250 using cosi_8\t         0.730290456\t         0.637883008\t         0.575163399\n",
      "\n",
      "0.2\n",
      "   GRU 1 100 using cosi_8\t         0.716101695\t         0.625698324\t         0.557755776\n",
      "   GRU 1 150 using cosi_8\t         0.731808732\t         0.645604396\t         0.577049180\n",
      "   GRU 1 200 using cosi_8\t         0.695278970\t         0.605555556\t         0.532894737\n",
      "   GRU 1 250 using cosi_8\t         0.750533049\t         0.676795580\t         0.600682594\n",
      "   GRU 2 100 using cosi_8\t         0.680244399\t         0.565096953\t         0.515432099\n",
      "   GRU 2 150 using cosi_8\t         0.710743802\t         0.612188366\t         0.551282051\n",
      "   GRU 2 200 using cosi_8\t         0.687370600\t         0.585164835\t         0.523659306\n",
      "   GRU 2 250 using cosi_8\t         0.729559748\t         0.640668524\t         0.574257426\n",
      "\n",
      "0.25\n",
      "   GRU 1 100 using cosi_8\t         0.683035714\t         0.600000000\t         0.518644068\n",
      "   GRU 1 150 using cosi_8\t         0.729211087\t         0.651098901\t         0.573825503\n",
      "   GRU 1 200 using cosi_8\t         0.678414097\t         0.594444444\t         0.513333333\n",
      "   GRU 1 250 using cosi_8\t         0.737306843\t         0.671270718\t         0.583916084\n",
      "   GRU 2 100 using cosi_8\t         0.673596674\t         0.563888889\t         0.507836991\n",
      "   GRU 2 150 using cosi_8\t         0.723404255\t         0.637883008\t         0.566666667\n",
      "   GRU 2 200 using cosi_8\t         0.690526316\t         0.593922652\t         0.527331190\n",
      "   GRU 2 250 using cosi_8\t         0.732631579\t         0.646239554\t         0.578073090\n",
      "\n",
      "0.30000000000000004\n",
      "   GRU 1 100 using cosi_8\t         0.689814815\t         0.619318182\t         0.526501767\n",
      "   GRU 1 150 using cosi_8\t         0.711790393\t         0.635359116\t         0.552542373\n",
      "   GRU 1 200 using cosi_8\t         0.671140940\t         0.591666667\t         0.505050505\n",
      "   GRU 1 250 using cosi_8\t         0.735891648\t         0.675900277\t         0.582142857\n",
      "   GRU 2 100 using cosi_8\t         0.680942184\t         0.584958217\t         0.516233766\n",
      "   GRU 2 150 using cosi_8\t         0.723311547\t         0.646239554\t         0.566552901\n",
      "   GRU 2 200 using cosi_8\t         0.695278970\t         0.605555556\t         0.532894737\n",
      "   GRU 2 250 using cosi_8\t         0.729211087\t         0.645251397\t         0.573825503\n",
      "\n",
      "0.35000000000000003\n",
      "   GRU 1 100 using cosi_8\t         0.690647482\t         0.628242075\t         0.527472527\n",
      "   GRU 1 150 using cosi_8\t         0.706401766\t         0.631578947\t         0.546075085\n",
      "   GRU 1 200 using cosi_8\t         0.678899083\t         0.608938547\t         0.513888889\n",
      "   GRU 1 250 using cosi_8\t         0.735632184\t         0.681440443\t         0.581818182\n",
      "   GRU 2 100 using cosi_8\t         0.699331849\t         0.622905028\t         0.537671233\n",
      "   GRU 2 150 using cosi_8\t         0.724444444\t         0.652661064\t         0.567944251\n",
      "   GRU 2 200 using cosi_8\t         0.692810458\t         0.607242340\t         0.530000000\n",
      "   GRU 2 250 using cosi_8\t         0.727272727\t         0.648044693\t         0.571428571\n",
      "\n",
      "0.4\n",
      "   GRU 1 100 using cosi_8\t         0.679802956\t         0.624277457\t         0.514925373\n",
      "   GRU 1 150 using cosi_8\t         0.691075515\t         0.623955432\t         0.527972028\n",
      "   GRU 1 200 using cosi_8\t         0.685446009\t         0.624649860\t         0.521428571\n",
      "   GRU 1 250 using cosi_8\t         0.728971963\t         0.677777778\t         0.573529412\n",
      "   GRU 2 100 using cosi_8\t         0.704545455\t         0.634831461\t         0.543859649\n",
      "   GRU 2 150 using cosi_8\t         0.719457014\t         0.652661064\t         0.561837456\n",
      "   GRU 2 200 using cosi_8\t         0.693156733\t         0.611731844\t         0.530405405\n",
      "   GRU 2 250 using cosi_8\t         0.728070175\t         0.653631285\t         0.572413793\n",
      "\n",
      "0.45\n",
      "   GRU 1 100 using cosi_8\t         0.656330749\t         0.615606936\t         0.488461538\n",
      "   GRU 1 150 using cosi_8\t         0.690140845\t         0.630252101\t         0.526881720\n",
      "   GRU 1 200 using cosi_8\t         0.690307329\t         0.633053221\t         0.527075812\n",
      "   GRU 1 250 using cosi_8\t         0.725536993\t         0.680555556\t         0.569288390\n",
      "   GRU 2 100 using cosi_8\t         0.709382151\t         0.643258427\t         0.549645390\n",
      "   GRU 2 150 using cosi_8\t         0.712643678\t         0.649859944\t         0.553571429\n",
      "   GRU 2 200 using cosi_8\t         0.683146067\t         0.605042017\t         0.518771331\n",
      "   GRU 2 250 using cosi_8\t         0.721603563\t         0.650837989\t         0.564459930\n",
      "\n",
      "0.5\n",
      "   GRU 1 100 using cosi_8\t         0.636118598\t         0.609826590\t         0.466403162\n",
      "   GRU 1 150 using cosi_8\t         0.692493947\t         0.642253521\t         0.529629630\n",
      "   GRU 1 200 using cosi_8\t         0.697115385\t         0.646067416\t         0.535055351\n",
      "   GRU 1 250 using cosi_8\t         0.727272727\t         0.683333333\t         0.571428571\n",
      "   GRU 2 100 using cosi_8\t         0.716627635\t         0.660112360\t         0.558394161\n",
      "   GRU 2 150 using cosi_8\t         0.719257541\t         0.660112360\t         0.561594203\n",
      "   GRU 2 200 using cosi_8\t         0.666666667\t         0.591036415\t         0.500000000\n",
      "   GRU 2 250 using cosi_8\t         0.721973094\t         0.653631285\t         0.564912281\n",
      "\n",
      "0.55\n",
      "   GRU 1 100 using cosi_8\t         0.609195402\t         0.605797101\t         0.438016529\n",
      "   GRU 1 150 using cosi_8\t         0.680306905\t         0.644886364\t         0.515503876\n",
      "   GRU 1 200 using cosi_8\t         0.689486553\t         0.643258427\t         0.526119403\n",
      "   GRU 1 250 using cosi_8\t         0.712195122\t         0.671309192\t         0.553030303\n",
      "   GRU 2 100 using cosi_8\t         0.714285714\t         0.662921348\t         0.555555556\n",
      "   GRU 2 150 using cosi_8\t         0.707547170\t         0.651685393\t         0.547445255\n",
      "   GRU 2 200 using cosi_8\t         0.663573086\t         0.593837535\t         0.496527778\n",
      "   GRU 2 250 using cosi_8\t         0.714932127\t         0.648044693\t         0.556338028\n",
      "\n"
     ]
    }
   ],
   "source": [
    "print('%25s\\t%20s\\t%20s\\t%20s' % ('', 'F1 score', 'Accuracy', 'Jaccard Similarity'))\n",
    "\n",
    "for threshold in [i * 0.05 for i in range(2, 12)]:\n",
    "    print(threshold)\n",
    "    name = 'score_data/cosi_8.pkl'\n",
    "    reds = [i for i in sorted(list(reductions), key=lambda x:(x.split()[1], int(x.split()[2]))) if name[-5] == i[-1]]\n",
    "    all_data = check_data_2(name, reds, threshold)\n",
    "    for i in list(reds):\n",
    "        if name[-5] != i[-1]:\n",
    "            continue\n",
    "        new_data = all_data.copy()\n",
    "        new_data.df = new_data.df[(new_data.df['x_train'] == 1) | (new_data.df['y_train'] == 1) | (new_data.df['y_pred_%s' % i] == 1)]\n",
    "        b1 = new_data.to_binary(col='y_train')\n",
    "        b2 = new_data.to_binary(col='y_pred_%s' % i)\n",
    "        scores = [metrics.f1_score(new_data.df['y_train'], new_data.df['y_pred_%s' % i]),\n",
    "                  metrics.accuracy_score(new_data.df['y_train'], new_data.df['y_pred_%s' % i]),\n",
    "                  pr.jaccard_similarity(b1, b2)\n",
    "                 ]\n",
    "        #if 'GRU' in i:\n",
    "        #    i = '%s using cosi_%c' % (i[2:], i[0])\n",
    "        #elif 'Attempt 2 both ways' in i:\n",
    "        #    i = '2 GRU using cosi_%c' % i[0]\n",
    "        print('%25s\\t%20.9f\\t%20.9f\\t%20.9f' % tuple([i] + scores))\n",
    "    print()"
   ]
  },
  {
   "cell_type": "code",
   "execution_count": 12,
   "metadata": {},
   "outputs": [
    {
     "name": "stdout",
     "output_type": "stream",
     "text": [
      "                         \t            F1 score\t            Accuracy\t  Jaccard Similarity\n",
      "   GRU 1 100 using cosi_2\t         0.744360902\t         0.616901408\t         0.592814371\n",
      "   GRU 1 150 using cosi_2\t         0.770093458\t         0.648571429\t         0.626139818\n",
      "   GRU 1 200 using cosi_2\t         0.746212121\t         0.620396601\t         0.595166163\n",
      "   GRU 1 250 using cosi_2\t         0.813008130\t         0.737142857\t         0.684931507\n",
      "   GRU 1 300 using cosi_2\t         0.782608696\t         0.687500000\t         0.642857143\n",
      "   GRU 2 100 using cosi_2\t         0.794676806\t         0.691428571\t         0.659305994\n",
      "   GRU 2 150 using cosi_2\t         0.751381215\t         0.615384615\t         0.601769912\n",
      "   GRU 2 200 using cosi_2\t         0.784615385\t         0.682719547\t         0.645569620\n",
      "   GRU 2 250 using cosi_2\t         0.808853119\t         0.733146067\t         0.679054054\n",
      "   GRU 2 300 using cosi_2\t         0.828571429\t         0.760000000\t         0.707317073\n",
      "          LR using cosi_2\t         0.714285714\t         0.573487032\t         0.555555556\n",
      "          NB using cosi_2\t         0.567639257\t         0.530259366\t         0.396296296\n",
      "\n",
      "   GRU 1 100 using cosi_6\t         0.773747841\t         0.655263158\t         0.630985915\n",
      "   GRU 1 150 using cosi_6\t         0.770491803\t         0.636363636\t         0.626666667\n",
      "   GRU 1 200 using cosi_6\t         0.804428044\t         0.711956522\t         0.672839506\n",
      "   GRU 1 250 using cosi_6\t         0.835398230\t         0.750670241\t         0.717325228\n",
      "   GRU 2 100 using cosi_6\t         0.746621622\t         0.612403101\t         0.595687332\n",
      "   GRU 2 150 using cosi_6\t         0.775577558\t         0.642105263\t         0.633423181\n",
      "   GRU 2 200 using cosi_6\t         0.792013311\t         0.667553191\t         0.655647383\n",
      "   GRU 2 250 using cosi_6\t         0.803478261\t         0.692934783\t         0.671511628\n",
      "   GRU 2 300 using cosi_6\t         0.848148148\t         0.772222222\t         0.736334405\n",
      "          LR using cosi_6\t         0.757522124\t         0.611898017\t         0.609686610\n",
      "          NB using cosi_6\t         0.519801980\t         0.450424929\t         0.351170569\n",
      "\n",
      "   GRU 1 100 using cosi_8\t         0.666666667\t         0.531969309\t         0.500000000\n",
      "   GRU 1 150 using cosi_8\t         0.720156556\t         0.608219178\t         0.562691131\n",
      "   GRU 1 200 using cosi_8\t         0.680080483\t         0.565573770\t         0.515243902\n",
      "   GRU 1 250 using cosi_8\t         0.742514970\t         0.647540984\t         0.590476190\n",
      "   GRU 2 100 using cosi_8\t         0.674329502\t         0.540540541\t         0.508670520\n",
      "   GRU 2 150 using cosi_8\t         0.688212928\t         0.556756757\t         0.524637681\n",
      "   GRU 2 200 using cosi_8\t         0.662721893\t         0.540322581\t         0.495575221\n",
      "   GRU 2 250 using cosi_8\t         0.726530612\t         0.630853994\t         0.570512821\n",
      "          LR using cosi_8\t         0.569105691\t         0.539130435\t         0.397727273\n",
      "          NB using cosi_8\t         0.512968300\t         0.510144928\t         0.344961240\n",
      "\n"
     ]
    }
   ],
   "source": [
    "print('%25s\\t%20s\\t%20s\\t%20s' % ('', 'F1 score', 'Accuracy', 'Jaccard Similarity'))\n",
    "\n",
    "for name in ['score_data/cosi_2.pkl', 'score_data/cosi_6.pkl', 'score_data/cosi_8.pkl']:\n",
    "    reds = [i for i in sorted(list(reductions), key=lambda x:(x.split()[1], int(x.split()[2]))) if name[-5] == i[-1]]\n",
    "    all_data = check_data(name, reds)\n",
    "    for i in list(reds) + ['LR using cosi_2', 'LR using cosi_6', 'LR using cosi_8', \n",
    "                           'NB using cosi_2', 'NB using cosi_6', 'NB using cosi_8', 'Keep All']:\n",
    "        if name[-5] != i[-1]:\n",
    "            continue\n",
    "        new_data = all_data.copy()\n",
    "        new_data.df = new_data.df[(new_data.df['x_train'] == 1) | (new_data.df['y_train'] == 1) | (new_data.df['y_pred_%s' % i] == 1)]\n",
    "        b1 = new_data.to_binary(col='y_train')\n",
    "        b2 = new_data.to_binary(col='y_pred_%s' % i)\n",
    "        scores = [metrics.f1_score(new_data.df['y_train'], new_data.df['y_pred_%s' % i]),\n",
    "                  metrics.accuracy_score(new_data.df['y_train'], new_data.df['y_pred_%s' % i]),\n",
    "                  pr.jaccard_similarity(b1, b2)\n",
    "                 ]\n",
    "        #if 'GRU' in i:\n",
    "        #    i = '%s using cosi_%c' % (i[2:], i[0])\n",
    "        #elif 'Attempt 2 both ways' in i:\n",
    "        #    i = '2 GRU using cosi_%c' % i[0]\n",
    "        print('%25s\\t%20.9f\\t%20.9f\\t%20.9f' % tuple([i] + scores))\n",
    "    print()"
   ]
  },
  {
   "cell_type": "code",
   "execution_count": 95,
   "metadata": {},
   "outputs": [],
   "source": [
    "#data = ScoreData.load('score_data/3.pkl')\n",
    "data = ScoreData(pr.load_df('demo', 2))\n",
    "new_data = data.copy()\n",
    "\n",
    "for i in reductions:\n",
    "    if '250' not in i or 'cosi_8' not in i:\n",
    "        continue\n",
    "    new_data = reductions[i].predict(new_data, threshold=0.3, name='y_pred_%s' % i)\n",
    "    \n",
    "output_names = []\n",
    "count = 0\n",
    "for i in reductions:\n",
    "    if '250' not in i or 'cosi_8' not in i:\n",
    "        continue\n",
    "    count += 1\n",
    "    new_data.df['Reduction %d' % count] = new_data.df['y_pred_%s' % i]\n",
    "    output_names.append('Reduction %d' % count)\n",
    "new_data.show_score(['x_train'] + output_names)"
   ]
  },
  {
   "cell_type": "code",
   "execution_count": 22,
   "metadata": {},
   "outputs": [],
   "source": [
    "data = ScoreData.load('score_data/cosi_8.pkl')\n",
    "data.show_score(['x_train', 'y_train'])"
   ]
  },
  {
   "cell_type": "code",
   "execution_count": 69,
   "metadata": {},
   "outputs": [],
   "source": [
    "new_data.show_score(['x_train'] + output_names)"
   ]
  },
  {
   "cell_type": "code",
   "execution_count": 82,
   "metadata": {},
   "outputs": [
    {
     "data": {
      "text/plain": [
       "['piano_reduction.tools',\n",
       " 'piano_reduction.compute_features',\n",
       " 'piano_reduction.features',\n",
       " 'piano_reduction.classes.reduction',\n",
       " 'piano_reduction',\n",
       " 'piano_reduction.classes',\n",
       " 'piano_reduction.classes.score_data']"
      ]
     },
     "execution_count": 82,
     "metadata": {},
     "output_type": "execute_result"
    }
   ],
   "source": [
    "[i for i in sys.modules if 'piano' in i]"
   ]
  },
  {
   "cell_type": "code",
   "execution_count": 81,
   "metadata": {},
   "outputs": [],
   "source": [
    "from piano_reduction.classes import ScoreData"
   ]
  },
  {
   "cell_type": "code",
   "execution_count": null,
   "metadata": {},
   "outputs": [],
   "source": []
  }
 ],
 "metadata": {
  "kernelspec": {
   "display_name": "Python 3",
   "language": "python",
   "name": "python3"
  },
  "language_info": {
   "codemirror_mode": {
    "name": "ipython",
    "version": 3
   },
   "file_extension": ".py",
   "mimetype": "text/x-python",
   "name": "python",
   "nbconvert_exporter": "python",
   "pygments_lexer": "ipython3",
   "version": "3.6.5"
  }
 },
 "nbformat": 4,
 "nbformat_minor": 2
}
