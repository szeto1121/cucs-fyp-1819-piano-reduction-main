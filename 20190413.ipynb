{
 "cells": [
  {
   "cell_type": "code",
   "execution_count": 1,
   "metadata": {},
   "outputs": [
    {
     "name": "stderr",
     "output_type": "stream",
     "text": [
      "Using TensorFlow backend.\n"
     ]
    }
   ],
   "source": [
    "import piano_reduction.tools as pr\n",
    "import piano_reduction.compute_features as cf\n",
    "from piano_reduction.classes import ScoreData, Reduction\n",
    "from sklearn import metrics"
   ]
  },
  {
   "cell_type": "code",
   "execution_count": null,
   "metadata": {},
   "outputs": [],
   "source": [
    "reductions = {}"
   ]
  },
  {
   "cell_type": "code",
   "execution_count": 29,
   "metadata": {},
   "outputs": [],
   "source": [
    "for i in [2, 6, 8]:\n",
    "    reductions['%d GRU_1 -old' % i] = Reduction.load('models/20190317b/GRU_1 %d.pkl' % i)\n",
    "    reductions['%d GRU_2 -old' % i] = Reduction.load('models/20190317b/GRU_2 %d.pkl' % i)\n",
    "    try:\n",
    "        reductions['%d GRU_1 -new' % i] = Reduction.load('models/20190318b/GRU_1 %d.pkl' % i)\n",
    "    except:\n",
    "        pass\n",
    "    try:\n",
    "        reductions['%d GRU_2 -new' % i] = Reduction.load('models/20190318b/GRU_2 %d.pkl' % i)\n",
    "    except:\n",
    "        pass"
   ]
  },
  {
   "cell_type": "code",
   "execution_count": 32,
   "metadata": {},
   "outputs": [],
   "source": [
    "for i in [7]:\n",
    "    reductions['%d GRU_1 -old' % i] = Reduction.load('models/20190410w/GRU_1 -chord %d.pkl' % i)\n",
    "    reductions['%d GRU_2 -old' % i] = Reduction.load('models/20190410w/GRU_2 -chord %d.pkl' % i)\n",
    "    reductions['%d GRU_1 -new' % i] = Reduction.load('models/20190410w/GRU_1 -new %d.pkl' % i)\n",
    "    reductions['%d GRU_2 -new' % i] = Reduction.load('models/20190410w/GRU_2 -new %d.pkl' % i)"
   ]
  },
  {
   "cell_type": "code",
   "execution_count": 43,
   "metadata": {},
   "outputs": [],
   "source": [
    "for i in reductions:\n",
    "    if 'GRU_1' in i:\n",
    "        reductions[i].params['length'] = 20"
   ]
  },
  {
   "cell_type": "code",
   "execution_count": 6,
   "metadata": {},
   "outputs": [
    {
     "name": "stdout",
     "output_type": "stream",
     "text": [
      "Creating df/input_with_chords/i_0007_Tchaikovsky_nutcracker_marchwithchord.musicxml\n",
      "P1: Violin I: Violin 0\n",
      "P2: Flute: Flute 0\n",
      "P3: Horn in F: Horn in F -7\n",
      "P4: Violoncello: Violoncello 0\n",
      "P5: A Clarinet: A Clarinet -3\n",
      "P6: B♭ Clarinet: B♭ Clarinet -2\n",
      "Creating df/output/o_0007_Tchaikovsky_nutcracker_march.xml\n",
      "P1: Piano: Piano 0\n",
      "P1: Piano: Piano 0\n",
      "Creating df/merged/7.pkl\n"
     ]
    }
   ],
   "source": [
    "for i in [7]:\n",
    "    dfs = pr.load_merged_df(i, use_cache=False)\n",
    "    score = ScoreData(dfs)\n",
    "    score.save('score_data/%d.pkl' % i)"
   ]
  },
  {
   "cell_type": "code",
   "execution_count": 3,
   "metadata": {},
   "outputs": [],
   "source": [
    "def check_data(name, reds):\n",
    "    _, new_data = ScoreData.load(name).split_in(0.8, 0.9)\n",
    "    \n",
    "    features = ['active_rhythm', 'bass_line', 'entrance_effect', 'highest', 'in_chord', 'lowest', 'occurrence', \n",
    "       'onset_after_rest', 'rhythm_variety', 'strong_beats', 'sustained_rhythm', 'vertical_doubling', 'duration_length', 'offset']\n",
    "    from sklearn.linear_model import LogisticRegression\n",
    "    from sklearn.naive_bayes import MultinomialNB\n",
    "    \n",
    "    for i in reds:\n",
    "        if 'GRU' in i:\n",
    "            new_data = reductions[i].predict(new_data, threshold=0.1, name='y_pred_%s' % i)\n",
    "        else:\n",
    "            new_data = reductions[i].predict_2(new_data, threshold=0.1, name='y_pred_%s' % i)\n",
    "    return new_data"
   ]
  },
  {
   "cell_type": "code",
   "execution_count": 4,
   "metadata": {},
   "outputs": [
    {
     "name": "stdout",
     "output_type": "stream",
     "text": [
      "                         \t            F1 score\t            Accuracy\t  Jaccard Similarity\n",
      " 1:   GRU_1 -old using cosi_2\t         0.753451677\t         0.644886364\t         0.604430380\n",
      " 2:   GRU_1 -old using cosi_2\t         0.800766284\t         0.702857143\t         0.667731629\n",
      " 3:   GRU_1 -old using cosi_2\t         0.743190661\t         0.630252101\t         0.591331269\n",
      " 4:   GRU_1 -old using cosi_2\t         0.746212121\t         0.629834254\t         0.595166163\n",
      " 5:   GRU_1 -old using cosi_2\t         0.735459662\t         0.616847826\t         0.581602374\n",
      " 6:   GRU_1 -old using cosi_2\t         0.737430168\t         0.613698630\t         0.584070796\n",
      " 7:   GRU_1 -old using cosi_2\t         0.721189591\t         0.598930481\t         0.563953488\n",
      " 8:   GRU_1 -old using cosi_2\t         0.688524590\t         0.580110497\t         0.525000000\n",
      " 9:   GRU_1 -old using cosi_2\t         0.091353997\t         0.139103555\t         0.047863248\n",
      "\n",
      " 1:   GRU_1 -old using cosi_6\t         0.752688172\t         0.619834711\t         0.603448276\n",
      " 2:   GRU_1 -old using cosi_6\t         0.760907504\t         0.630727763\t         0.614084507\n",
      " 3:   GRU_1 -old using cosi_6\t         0.761061947\t         0.630136986\t         0.614285714\n",
      " 4:   GRU_1 -old using cosi_6\t         0.784110535\t         0.659400545\t         0.644886364\n",
      " 5:   GRU_1 -old using cosi_6\t         0.784246575\t         0.659459459\t         0.645070423\n",
      " 6:   GRU_1 -old using cosi_6\t         0.823129252\t         0.711911357\t         0.699421965\n",
      " 7:   GRU_1 -old using cosi_6\t         0.766891892\t         0.636842105\t         0.621917808\n",
      " 8:   GRU_1 -old using cosi_6\t         0.727272727\t         0.592797784\t         0.571428571\n",
      " 9:   GRU_1 -old using cosi_6\t         0.009584665\t         0.041731066\t         0.004815409\n",
      "\n",
      " 1:   GRU_1 -old using cosi_8\t         0.751467710\t         0.657681941\t         0.601880878\n",
      " 2:   GRU_1 -old using cosi_8\t         0.692015209\t         0.572559367\t         0.529069767\n",
      " 3:   GRU_1 -old using cosi_8\t         0.756756757\t         0.662198391\t         0.608695652\n",
      " 4:   GRU_1 -old using cosi_8\t         0.744360902\t         0.637333333\t         0.592814371\n",
      " 5:   GRU_1 -old using cosi_8\t         0.741154562\t         0.635170604\t         0.588757396\n",
      " 6:   GRU_1 -old using cosi_8\t         0.746765250\t         0.631720430\t         0.595870206\n",
      " 7:   GRU_1 -old using cosi_8\t         0.725598527\t         0.611979167\t         0.569364162\n",
      " 8:   GRU_1 -old using cosi_8\t         0.756097561\t         0.670329670\t         0.607843137\n",
      " 9:   GRU_1 -old using cosi_8\t         0.013722127\t         0.119448698\t         0.006908463\n",
      "\n",
      " 1:   GRU_2 -old using cosi_2\t         0.801603206\t         0.717142857\t         0.668896321\n",
      " 2:   GRU_2 -old using cosi_2\t         0.859922179\t         0.793103448\t         0.754266212\n",
      " 3:   GRU_2 -old using cosi_2\t         0.790513834\t         0.701408451\t         0.653594771\n",
      " 4:   GRU_2 -old using cosi_2\t         0.788461538\t         0.694444444\t         0.650793651\n",
      " 5:   GRU_2 -old using cosi_2\t         0.769523810\t         0.669398907\t         0.625386997\n",
      " 6:   GRU_2 -old using cosi_2\t         0.786389414\t         0.686980609\t         0.647975078\n",
      " 7:   GRU_2 -old using cosi_2\t         0.756653992\t         0.654986523\t         0.608562691\n",
      " 8:   GRU_2 -old using cosi_2\t         0.754166667\t         0.670391061\t         0.605351171\n",
      " 9:   GRU_2 -old using cosi_2\t         0.025454545\t         0.109634551\t         0.012891344\n",
      "\n",
      " 1:   GRU_2 -old using cosi_6\t         0.790170132\t         0.689075630\t         0.653125000\n",
      " 2:   GRU_2 -old using cosi_6\t         0.772058824\t         0.661202186\t         0.628742515\n",
      " 3:   GRU_2 -old using cosi_6\t         0.794776119\t         0.693593315\t         0.659442724\n",
      " 4:   GRU_2 -old using cosi_6\t         0.814545455\t         0.717451524\t         0.687116564\n",
      " 5:   GRU_2 -old using cosi_6\t         0.814414414\t         0.717032967\t         0.686930091\n",
      " 6:   GRU_2 -old using cosi_6\t         0.869409660\t         0.794366197\t         0.768987342\n",
      " 7:   GRU_2 -old using cosi_6\t         0.792857143\t         0.684782609\t         0.656804734\n",
      " 8:   GRU_2 -old using cosi_6\t         0.749019608\t         0.639436620\t         0.598746082\n",
      " 9:   GRU_2 -old using cosi_6\t         0.051107325\t         0.086885246\t         0.026223776\n",
      "\n",
      " 1:   GRU_2 -old using cosi_8\t         0.769230769\t         0.692520776\t         0.625000000\n",
      " 2:   GRU_2 -old using cosi_8\t         0.733870968\t         0.643243243\t         0.579617834\n",
      " 3:   GRU_2 -old using cosi_8\t         0.774590164\t         0.696969697\t         0.632107023\n",
      " 4:   GRU_2 -old using cosi_8\t         0.749003984\t         0.654794521\t         0.598726115\n",
      " 5:   GRU_2 -old using cosi_8\t         0.745562130\t         0.652291105\t         0.594339623\n",
      " 6:   GRU_2 -old using cosi_8\t         0.751467710\t         0.649171271\t         0.601880878\n",
      " 7:   GRU_2 -old using cosi_8\t         0.725146199\t         0.622994652\t         0.568807339\n",
      " 8:   GRU_2 -old using cosi_8\t         0.809523810\t         0.751412429\t         0.680000000\n",
      " 9:   GRU_2 -old using cosi_8\t         0.000000000\t         0.176661264\t         0.000000000\n",
      "\n",
      " 1:   GRU_1 -new using cosi_2\t         0.810810811\t         0.715942029\t         0.681818182\n",
      " 2:   GRU_1 -new using cosi_2\t         0.761726079\t         0.640226629\t         0.615151515\n",
      " 3:   GRU_1 -new using cosi_2\t         0.803809524\t         0.705714286\t         0.671974522\n",
      " 4:   GRU_1 -new using cosi_2\t         0.786641929\t         0.676056338\t         0.648318043\n",
      " 5:   GRU_1 -new using cosi_2\t         0.779411765\t         0.666666667\t         0.638554217\n",
      " 6:   GRU_1 -new using cosi_2\t         0.781021898\t         0.663865546\t         0.640718563\n",
      " 7:   GRU_1 -new using cosi_2\t         0.757246377\t         0.636856369\t         0.609329446\n",
      " 8:   GRU_1 -new using cosi_2\t         0.721442886\t         0.608450704\t         0.564263323\n",
      " 9:   GRU_1 -new using cosi_2\t         0.033840948\t         0.092209857\t         0.017211704\n",
      "\n",
      " 1:   GRU_1 -new using cosi_6\t         0.794520548\t         0.705056180\t         0.659090909\n",
      " 2:   GRU_1 -new using cosi_6\t         0.779467681\t         0.681318681\t         0.638629283\n",
      " 3:   GRU_1 -new using cosi_6\t         0.799227799\t         0.709497207\t         0.665594855\n",
      " 4:   GRU_1 -new using cosi_6\t         0.860902256\t         0.792134831\t         0.755775578\n",
      " 5:   GRU_1 -new using cosi_6\t         0.849162011\t         0.774373259\t         0.737864078\n",
      " 6:   GRU_1 -new using cosi_6\t         0.828096118\t         0.741666667\t         0.706624606\n",
      " 7:   GRU_1 -new using cosi_6\t         0.827205882\t         0.741758242\t         0.705329154\n",
      " 8:   GRU_1 -new using cosi_6\t         0.752032520\t         0.661111111\t         0.602605863\n",
      " 9:   GRU_1 -new using cosi_6\t         0.029459902\t         0.091883614\t         0.014950166\n",
      "\n",
      " 1:   GRU_1 -new using cosi_8\t         0.772643253\t         0.660220994\t         0.629518072\n",
      " 2:   GRU_1 -new using cosi_8\t         0.773381295\t         0.658536585\t         0.630498534\n",
      " 3:   GRU_1 -new using cosi_8\t         0.788321168\t         0.680440771\t         0.650602410\n",
      " 4:   GRU_1 -new using cosi_8\t         0.825622776\t         0.729281768\t         0.703030303\n",
      " 5:   GRU_1 -new using cosi_8\t         0.825396825\t         0.728767123\t         0.702702703\n",
      " 6:   GRU_1 -new using cosi_8\t         0.830122592\t         0.734972678\t         0.709580838\n",
      " 7:   GRU_1 -new using cosi_8\t         0.820422535\t         0.722826087\t         0.695522388\n",
      " 8:   GRU_1 -new using cosi_8\t         0.712643678\t         0.590163934\t         0.553571429\n",
      " 9:   GRU_1 -new using cosi_8\t         0.041335453\t         0.068006182\t         0.021103896\n",
      "\n",
      " 1:   GRU_2 -new using cosi_2\t         0.834645669\t         0.755102041\t         0.716216216\n",
      " 2:   GRU_2 -new using cosi_2\t         0.776290631\t         0.666666667\t         0.634375000\n",
      " 3:   GRU_2 -new using cosi_2\t         0.819417476\t         0.732758621\t         0.694078947\n",
      " 4:   GRU_2 -new using cosi_2\t         0.801512287\t         0.702549575\t         0.668769716\n",
      " 5:   GRU_2 -new using cosi_2\t         0.790262172\t         0.688022284\t         0.653250774\n",
      " 6:   GRU_2 -new using cosi_2\t         0.799256506\t         0.694915254\t         0.665634675\n",
      " 7:   GRU_2 -new using cosi_2\t         0.776119403\t         0.668508287\t         0.634146341\n",
      " 8:   GRU_2 -new using cosi_2\t         0.740286299\t         0.638176638\t         0.587662338\n",
      " 9:   GRU_2 -new using cosi_2\t         0.017482517\t         0.074135091\t         0.008818342\n",
      "\n",
      " 1:   GRU_2 -new using cosi_6\t         0.781250000\t         0.691460055\t         0.641025641\n",
      " 2:   GRU_2 -new using cosi_6\t         0.770398482\t         0.673854447\t         0.626543210\n",
      " 3:   GRU_2 -new using cosi_6\t         0.797687861\t         0.712328767\t         0.663461538\n",
      " 4:   GRU_2 -new using cosi_6\t         0.855534709\t         0.787878788\t         0.747540984\n",
      " 5:   GRU_2 -new using cosi_6\t         0.847583643\t         0.775342466\t         0.735483871\n",
      " 6:   GRU_2 -new using cosi_6\t         0.826568266\t         0.743169399\t         0.704402516\n",
      " 7:   GRU_2 -new using cosi_6\t         0.832412523\t         0.754054054\t         0.712933754\n",
      " 8:   GRU_2 -new using cosi_6\t         0.746450304\t         0.658469945\t         0.595469256\n",
      " 9:   GRU_2 -new using cosi_6\t         0.023648649\t         0.083993661\t         0.011965812\n",
      "\n",
      " 1:   GRU_2 -new using cosi_8\t         0.766208251\t         0.668523677\t         0.621019108\n",
      " 2:   GRU_2 -new using cosi_8\t         0.744274809\t         0.631868132\t         0.592705167\n",
      " 3:   GRU_2 -new using cosi_8\t         0.771317829\t         0.673130194\t         0.627760252\n",
      " 4:   GRU_2 -new using cosi_8\t         0.837735849\t         0.760445682\t         0.720779221\n",
      " 5:   GRU_2 -new using cosi_8\t         0.822429907\t         0.737569061\t         0.698412698\n",
      " 6:   GRU_2 -new using cosi_8\t         0.805194805\t         0.709944751\t         0.673913043\n",
      " 7:   GRU_2 -new using cosi_8\t         0.863039400\t         0.798342541\t         0.759075908\n",
      " 8:   GRU_2 -new using cosi_8\t         0.722448980\t         0.624309392\t         0.565495208\n",
      " 9:   GRU_2 -new using cosi_8\t         0.010968921\t         0.105785124\t         0.005514706\n",
      "\n"
     ]
    }
   ],
   "source": [
    "print('%25s\\t%20s\\t%20s\\t%20s' % ('', 'F1 score', 'Accuracy', 'Jaccard Similarity'))\n",
    "for gru in ['GRU_1 -old', 'GRU_2 -old', 'GRU_1 -new', 'GRU_2 -new']:\n",
    "    for k in ['2', '6', '8']:\n",
    "        reds = [i for i in sorted(list(reductions), key=lambda x:x[::-1]) if gru in i and i[0] == k]\n",
    "        for j in range(1, 10):\n",
    "            name = 'score_data/cosi_%d.pkl' % j\n",
    "        #for name in ['score_data/cosi_2.pkl', 'score_data/cosi_6.pkl', 'score_data/cosi_8.pkl']:\n",
    "            new_data = check_data(name, reds)\n",
    "            for i in list(reds):\n",
    "                b1 = new_data.to_binary(col='y_train')\n",
    "                b2 = new_data.to_binary(col='y_pred_%s' % i)\n",
    "                scores = [metrics.f1_score(new_data.df['y_train'], new_data.df['y_pred_%s' % i]),\n",
    "                          metrics.accuracy_score(new_data.df['y_train'], new_data.df['y_pred_%s' % i]),\n",
    "                          pr.jaccard_similarity(b1, b2)\n",
    "                         ]\n",
    "                if 'GRU' in i:\n",
    "                    i = '%s using cosi_%c' % (i[2:], i[0])\n",
    "                #elif 'Attempt 2 both ways' in i:\n",
    "                #    i = '2 GRU using cosi_%c' % i[0]\n",
    "                print('%2d: %25s\\t%20.9f\\t%20.9f\\t%20.9f' % tuple([j, i] + scores))\n",
    "        print()"
   ]
  },
  {
   "cell_type": "code",
   "execution_count": 22,
   "metadata": {},
   "outputs": [
    {
     "name": "stdout",
     "output_type": "stream",
     "text": [
      "   Testing Data|                Model Used\t            F1 score\t            Accuracy\t  Jaccard Similarity\n",
      "          7.pkl: GRU_1 -old using nutcracker\t         0.878698225\t         0.811926606\t         0.783641161\n",
      "\n",
      "          7.pkl: GRU_2 -old using nutcracker\t         0.935384615\t         0.898550725\t         0.878612717\n",
      "\n",
      "          7.pkl: GRU_1 -new using nutcracker\t         0.843795620\t         0.761692650\t         0.729797980\n",
      "\n",
      "          7.pkl: GRU_2 -new using nutcracker\t         0.956656347\t         0.931540342\t         0.916913947\n",
      "\n"
     ]
    }
   ],
   "source": [
    "print('%15s| %25s\\t%20s\\t%20s\\t%20s' % ('Testing Data','Model Used', 'F1 score', 'Accuracy', 'Jaccard Similarity'))\n",
    "names = []\n",
    "for i in [7]:\n",
    "    names.append('score_data/%d.pkl' % i)\n",
    "for i in []:\n",
    "    names.append('score_data/cosi_%d.pkl' % i)\n",
    "for gru in ['GRU_1 -old', 'GRU_2 -old', 'GRU_1 -new', 'GRU_2 -new']:\n",
    "    for k in ['7']:\n",
    "        reds = [i for i in sorted(list(reductions), key=lambda x:x[::-1]) if gru in i and i[0] == k]\n",
    "        for name in names:\n",
    "            new_data = check_data(name, reds)\n",
    "            for i in list(reds):\n",
    "                b1 = new_data.to_binary(col='y_train')\n",
    "                b2 = new_data.to_binary(col='y_pred_%s' % i)\n",
    "                scores = [metrics.f1_score(new_data.df['y_train'], new_data.df['y_pred_%s' % i]),\n",
    "                          metrics.accuracy_score(new_data.df['y_train'], new_data.df['y_pred_%s' % i]),\n",
    "                          pr.jaccard_similarity(b1, b2)\n",
    "                         ]\n",
    "                if 'GRU' in i:\n",
    "                    i = '%s using nutcracker' % (i[2:])\n",
    "                #elif 'Attempt 2 both ways' in i:\n",
    "                #    i = '2 GRU using cosi_%c' % i[0]\n",
    "                print('%15s: %25s\\t%20.9f\\t%20.9f\\t%20.9f' % tuple([name[11:], i] + scores))\n",
    "        print()"
   ]
  },
  {
   "cell_type": "code",
   "execution_count": 44,
   "metadata": {},
   "outputs": [
    {
     "name": "stdout",
     "output_type": "stream",
     "text": [
      "                         \t            F1 score\t            Accuracy\t  Jaccard Similarity\n",
      "  GRU_1 -old using cosi_2\t         0.803059273\t         0.807476636\t         0.670926518\n",
      "  GRU_1 -old using cosi_6\t         0.760907504\t         0.743925234\t         0.614084507\n",
      "  GRU_1 -old using cosi_7\t         0.477351916\t         0.439252336\t         0.313501144\n",
      "  GRU_1 -old using cosi_8\t         0.692015209\t         0.697196262\t         0.529069767\n",
      "  GRU_2 -old using cosi_2\t         0.859922179\t         0.865420561\t         0.754266212\n",
      "  GRU_2 -old using cosi_6\t         0.772058824\t         0.768224299\t         0.628742515\n",
      "  GRU_2 -old using cosi_7\t         0.463157895\t         0.428037383\t         0.301369863\n",
      "  GRU_2 -old using cosi_8\t         0.733870968\t         0.753271028\t         0.579617834\n",
      "  GRU_1 -new using cosi_2\t         0.759398496\t         0.760747664\t         0.612121212\n",
      "  GRU_1 -new using cosi_6\t         0.779467681\t         0.783177570\t         0.638629283\n",
      "  GRU_1 -new using cosi_7\t         0.457960644\t         0.433644860\t         0.296983759\n",
      "  GRU_1 -new using cosi_8\t         0.767567568\t         0.758878505\t         0.622807018\n",
      "  GRU_2 -new using cosi_2\t         0.776290631\t         0.781308411\t         0.634375000\n",
      "  GRU_2 -new using cosi_6\t         0.770398482\t         0.773831776\t         0.626543210\n",
      "  GRU_2 -new using cosi_7\t         0.472998138\t         0.471028037\t         0.309756098\n",
      "  GRU_2 -new using cosi_8\t         0.744274809\t         0.749532710\t         0.592705167\n",
      "\n",
      "  GRU_1 -old using cosi_2\t         0.743494424\t         0.742056075\t         0.591715976\n",
      "  GRU_1 -old using cosi_6\t         0.823129252\t         0.805607477\t         0.699421965\n",
      "  GRU_1 -old using cosi_7\t         0.512733447\t         0.463551402\t         0.344748858\n",
      "  GRU_1 -old using cosi_8\t         0.746765250\t         0.743925234\t         0.595870206\n",
      "  GRU_2 -old using cosi_2\t         0.786389414\t         0.788785047\t         0.647975078\n",
      "  GRU_2 -old using cosi_6\t         0.869409660\t         0.863551402\t         0.768987342\n",
      "  GRU_2 -old using cosi_7\t         0.499145299\t         0.452336449\t         0.332574032\n",
      "  GRU_2 -old using cosi_8\t         0.751467710\t         0.762616822\t         0.601880878\n",
      "  GRU_1 -new using cosi_2\t         0.782449726\t         0.777570093\t         0.642642643\n",
      "  GRU_1 -new using cosi_6\t         0.828096118\t         0.826168224\t         0.706624606\n",
      "  GRU_1 -new using cosi_7\t         0.508710801\t         0.472897196\t         0.341121495\n",
      "  GRU_1 -new using cosi_8\t         0.828070175\t         0.816822430\t         0.706586826\n",
      "  GRU_2 -new using cosi_2\t         0.799256506\t         0.798130841\t         0.665634675\n",
      "  GRU_2 -new using cosi_6\t         0.826568266\t         0.824299065\t         0.704402516\n",
      "  GRU_2 -new using cosi_7\t         0.503623188\t         0.487850467\t         0.336561743\n",
      "  GRU_2 -new using cosi_8\t         0.805194805\t         0.803738318\t         0.673913043\n",
      "\n",
      "  GRU_1 -old using cosi_2\t         0.691206544\t         0.717757009\t         0.528125000\n",
      "  GRU_1 -old using cosi_6\t         0.727272727\t         0.725233645\t         0.571428571\n",
      "  GRU_1 -old using cosi_7\t         0.451851852\t         0.446728972\t         0.291866029\n",
      "  GRU_1 -old using cosi_8\t         0.756097561\t         0.775700935\t         0.607843137\n",
      "  GRU_2 -old using cosi_2\t         0.754166667\t         0.779439252\t         0.605351171\n",
      "  GRU_2 -old using cosi_6\t         0.749019608\t         0.760747664\t         0.598746082\n",
      "  GRU_2 -old using cosi_7\t         0.444029851\t         0.442990654\t         0.285371703\n",
      "  GRU_2 -old using cosi_8\t         0.809523810\t         0.835514019\t         0.680000000\n",
      "  GRU_1 -new using cosi_2\t         0.718875502\t         0.738317757\t         0.561128527\n",
      "  GRU_1 -new using cosi_6\t         0.752032520\t         0.771962617\t         0.602605863\n",
      "  GRU_1 -new using cosi_7\t         0.441904762\t         0.452336449\t         0.283618582\n",
      "  GRU_1 -new using cosi_8\t         0.710172745\t         0.717757009\t         0.550595238\n",
      "  GRU_2 -new using cosi_2\t         0.740286299\t         0.762616822\t         0.587662338\n",
      "  GRU_2 -new using cosi_6\t         0.746450304\t         0.766355140\t         0.595469256\n",
      "  GRU_2 -new using cosi_7\t         0.461232604\t         0.493457944\t         0.299741602\n",
      "  GRU_2 -new using cosi_8\t         0.722448980\t         0.745794393\t         0.565495208\n",
      "\n"
     ]
    }
   ],
   "source": [
    "print('%25s\\t%20s\\t%20s\\t%20s' % ('', 'F1 score', 'Accuracy', 'Jaccard Similarity'))\n",
    "reds = [i for i in sorted(list(reductions), key=lambda x:x[::-1]) if 'GRU' in i]\n",
    "for name in ['score_data/cosi_2.pkl', 'score_data/cosi_6.pkl', 'score_data/cosi_8.pkl']:\n",
    "    new_data = check_data(name, reds)\n",
    "    for i in list(reds):\n",
    "        b1 = new_data.to_binary(col='y_train')\n",
    "        b2 = new_data.to_binary(col='y_pred_%s' % i)\n",
    "        scores = [metrics.f1_score(new_data.df['y_train'], new_data.df['y_pred_%s' % i]),\n",
    "                  metrics.accuracy_score(new_data.df['y_train'], new_data.df['y_pred_%s' % i]),\n",
    "                  pr.jaccard_similarity(b1, b2)\n",
    "                 ]\n",
    "        if 'GRU' in i:\n",
    "            i = '%s using cosi_%c' % (i[2:], i[0])\n",
    "        #elif 'Attempt 2 both ways' in i:\n",
    "        #    i = '2 GRU using cosi_%c' % i[0]\n",
    "        print('%25s\\t%20.9f\\t%20.9f\\t%20.9f' % tuple([i] + scores))\n",
    "    print()"
   ]
  },
  {
   "cell_type": "code",
   "execution_count": 36,
   "metadata": {},
   "outputs": [],
   "source": [
    "reds = [i for i in sorted(list(reductions)) if i[0] == '7' or (i[0] == '8' and 'GRU_2 -new' in i)]\n",
    "#_, new_data = ScoreData.load('score_data/7.pkl').split_in(0.8, 0.9)\n",
    "new_data = ScoreData.load('score_data/2.pkl')\n",
    "#dfs = pr.load_df('input_with_chords', 7)\n",
    "#score = ScoreData(dfs)\n",
    "#score.save('score_data/fun_%d.pkl' % 0)\n",
    "#new_data = score\n",
    "for i in reds:\n",
    "    new_data = reductions[i].predict(new_data, threshold=0.1, name='y_pred_%s' % i)\n"
   ]
  },
  {
   "cell_type": "code",
   "execution_count": 37,
   "metadata": {},
   "outputs": [],
   "source": [
    "new_data.show_score(['x_train'] + ['y_pred_%s' % i for i in reds])"
   ]
  },
  {
   "cell_type": "code",
   "execution_count": 40,
   "metadata": {},
   "outputs": [
    {
     "data": {
      "text/plain": [
       "{'length': 39,\n",
       " 'features': ['active_rhythm',\n",
       "  'bass_line',\n",
       "  'entrance_effect',\n",
       "  'highest',\n",
       "  'in_chord',\n",
       "  'lowest',\n",
       "  'occurrence',\n",
       "  'onset_after_rest',\n",
       "  'rhythm_variety',\n",
       "  'strong_beats',\n",
       "  'sustained_rhythm',\n",
       "  'vertical_doubling',\n",
       "  'duration_length']}"
      ]
     },
     "execution_count": 40,
     "metadata": {},
     "output_type": "execute_result"
    }
   ],
   "source": []
  },
  {
   "cell_type": "code",
   "execution_count": null,
   "metadata": {},
   "outputs": [],
   "source": []
  }
 ],
 "metadata": {
  "kernelspec": {
   "display_name": "Python 3",
   "language": "python",
   "name": "python3"
  },
  "language_info": {
   "codemirror_mode": {
    "name": "ipython",
    "version": 3
   },
   "file_extension": ".py",
   "mimetype": "text/x-python",
   "name": "python",
   "nbconvert_exporter": "python",
   "pygments_lexer": "ipython3",
   "version": "3.6.5"
  }
 },
 "nbformat": 4,
 "nbformat_minor": 2
}
