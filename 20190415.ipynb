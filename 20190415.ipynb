{
 "cells": [
  {
   "cell_type": "code",
   "execution_count": 1,
   "metadata": {},
   "outputs": [
    {
     "name": "stderr",
     "output_type": "stream",
     "text": [
      "Using TensorFlow backend.\n"
     ]
    }
   ],
   "source": [
    "import piano_reduction.tools as pr\n",
    "import piano_reduction.compute_features as cf\n",
    "from piano_reduction.classes import ScoreData, Reduction\n",
    "from sklearn import metrics\n",
    "import numpy as np"
   ]
  },
  {
   "cell_type": "code",
   "execution_count": 2,
   "metadata": {},
   "outputs": [],
   "source": [
    "reductionsn = {}"
   ]
  },
  {
   "cell_type": "code",
   "execution_count": 3,
   "metadata": {},
   "outputs": [],
   "source": [
    "for i in [7, 8]:\n",
    "    for j in [0, 1, 2, 3, 4]:\n",
    "        try:\n",
    "            reductionsn['%d GRU_1 -old %d' % (i, j)] = 'models/20190415c/GRU_1 -old %d %d.pkl' % (i, j)\n",
    "        except:\n",
    "            pass\n",
    "        try:\n",
    "            reductionsn['%d GRU_2 -old %d' % (i, j)] = 'models/20190415c/GRU_2 -old %d %d.pkl' % (i, j)\n",
    "        except:\n",
    "            pass\n",
    "        try:\n",
    "            reductionsn['%d GRU_1 -new %d' % (i, j)] = 'models/20190415c/GRU_1 -new %d %d.pkl' % (i, j)\n",
    "        except:\n",
    "            pass\n",
    "        try:\n",
    "            reductionsn['%d GRU_2 -new %d' % (i, j)] = 'models/20190415c/GRU_2 -new %d %d.pkl' % (i, j)\n",
    "        except:\n",
    "            pass"
   ]
  },
  {
   "cell_type": "code",
   "execution_count": 32,
   "metadata": {},
   "outputs": [],
   "source": [
    "for i in [7]:\n",
    "    reductions['%d GRU_1 -old' % i] = Reduction.load('models/20190410w/GRU_1 -chord %d.pkl' % i)\n",
    "    reductions['%d GRU_2 -old' % i] = Reduction.load('models/20190410w/GRU_2 -chord %d.pkl' % i)\n",
    "    reductions['%d GRU_1 -new' % i] = Reduction.load('models/20190410w/GRU_1 -new %d.pkl' % i)\n",
    "    reductions['%d GRU_2 -new' % i] = Reduction.load('models/20190410w/GRU_2 -new %d.pkl' % i)"
   ]
  },
  {
   "cell_type": "code",
   "execution_count": 43,
   "metadata": {},
   "outputs": [],
   "source": [
    "for i in reductions:\n",
    "    if 'GRU_1' in i:\n",
    "        reductions[i].params['length'] = 20"
   ]
  },
  {
   "cell_type": "code",
   "execution_count": 6,
   "metadata": {},
   "outputs": [
    {
     "name": "stdout",
     "output_type": "stream",
     "text": [
      "Creating df/input_with_chords/i_0007_Tchaikovsky_nutcracker_marchwithchord.musicxml\n",
      "P1: Violin I: Violin 0\n",
      "P2: Flute: Flute 0\n",
      "P3: Horn in F: Horn in F -7\n",
      "P4: Violoncello: Violoncello 0\n",
      "P5: A Clarinet: A Clarinet -3\n",
      "P6: B♭ Clarinet: B♭ Clarinet -2\n",
      "Creating df/output/o_0007_Tchaikovsky_nutcracker_march.xml\n",
      "P1: Piano: Piano 0\n",
      "P1: Piano: Piano 0\n",
      "Creating df/merged/7.pkl\n"
     ]
    }
   ],
   "source": [
    "for i in [7]:\n",
    "    dfs = pr.load_merged_df(i, use_cache=False)\n",
    "    score = ScoreData(dfs)\n",
    "    score.save('score_data/%d.pkl' % i)"
   ]
  },
  {
   "cell_type": "code",
   "execution_count": 4,
   "metadata": {},
   "outputs": [],
   "source": [
    "def check_data(name, reds, pos, threshold=0.1):\n",
    "    _, new_data = ScoreData.load(name).split_in(pos, pos + 0.2)\n",
    "    \n",
    "    features = ['active_rhythm', 'bass_line', 'entrance_effect', 'highest', 'in_chord', 'lowest', 'occurrence', \n",
    "       'onset_after_rest', 'rhythm_variety', 'strong_beats', 'sustained_rhythm', 'vertical_doubling', 'duration_length', 'offset']\n",
    "    from sklearn.linear_model import LogisticRegression\n",
    "    from sklearn.naive_bayes import MultinomialNB\n",
    "    \n",
    "    for i in reds:\n",
    "        if 'GRU' in i:\n",
    "            new_data = reductions[i].predict(new_data, threshold=threshold, name='y_pred_%s' % i)\n",
    "        else:\n",
    "            new_data = reductions[i].predict_2(new_data, threshold=threshold, name='y_pred_%s' % i)\n",
    "    return new_data"
   ]
  },
  {
   "cell_type": "code",
   "execution_count": null,
   "metadata": {},
   "outputs": [],
   "source": [
    "print('%15s| %25s\\t%20s\\t%20s\\t%20s' % ('Testing Data','Model Used', 'F1 score', 'Accuracy', 'Jaccard Similarity'))\n",
    "names = []\n",
    "for i in [7]:\n",
    "    names.append('score_data/%d.pkl' % i)\n",
    "for i in []:\n",
    "    names.append('score_data/cosi_%d.pkl' % i)\n",
    "reductions = {}\n",
    "for k in ['8', '7']:\n",
    "    for gru in ['GRU_1 -new', 'GRU_1 -old', 'GRU_2 -new', 'GRU_2 -old']:\n",
    "    \n",
    "        from keras import backend as K\n",
    "        K.clear_session()\n",
    "        if k == '7':\n",
    "            name = 'score_data/7.pkl'\n",
    "        else:\n",
    "            name = 'score_data/cosi_%s.pkl' % k\n",
    "        reductions = {}\n",
    "        for i in reductionsn:\n",
    "            if gru in i and i[0] == k:\n",
    "                reductions[i] = Reduction.load(reductionsn[i])\n",
    "        avg = np.array([0.0, 0.0, 0.0])\n",
    "        for j in [0, 1, 2, 3, 4]:\n",
    "            i = '%s %s %d' % (k, gru, j)\n",
    "            new_data = check_data(name, [i], j * 0.2, threshold=0.7)\n",
    "            b1 = new_data.to_binary(col='y_train')\n",
    "            b2 = new_data.to_binary(col='y_pred_%s' % i)\n",
    "            scores = [metrics.f1_score(new_data.df['y_train'], new_data.df['y_pred_%s' % i]),\n",
    "                      metrics.accuracy_score(new_data.df['y_train'], new_data.df['y_pred_%s' % i]),\n",
    "                      pr.jaccard_similarity(b1, b2)\n",
    "                     ]\n",
    "            if 'GRU' in i:\n",
    "                i = '%s using %s.pkl' % (i[2:], k)\n",
    "            #elif 'Attempt 2 both ways' in i:\n",
    "            #    i = '2 GRU using cosi_%c' % i[0]\n",
    "            #print('%15s: %25s\\t%20.9f\\t%20.9f\\t%20.9f' % tuple([name[11:], i] + scores))\n",
    "            avg += np.array(scores)\n",
    "        #print('%15s  %25s\\t%20.9f\\t%20.9f\\t%20.9f' % tuple(['', 'Average'] + list(avg / 5.0)))\n",
    "        print('%.9f\\t%.9f\\t%.9f' % tuple(list(avg / 5.0)))\n",
    "        #print()\n",
    "        "
   ]
  },
  {
   "cell_type": "code",
   "execution_count": null,
   "metadata": {},
   "outputs": [],
   "source": [
    "1"
   ]
  },
  {
   "cell_type": "code",
   "execution_count": 44,
   "metadata": {},
   "outputs": [
    {
     "name": "stdout",
     "output_type": "stream",
     "text": [
      "                         \t            F1 score\t            Accuracy\t  Jaccard Similarity\n",
      "  GRU_1 -old using cosi_2\t         0.803059273\t         0.807476636\t         0.670926518\n",
      "  GRU_1 -old using cosi_6\t         0.760907504\t         0.743925234\t         0.614084507\n",
      "  GRU_1 -old using cosi_7\t         0.477351916\t         0.439252336\t         0.313501144\n",
      "  GRU_1 -old using cosi_8\t         0.692015209\t         0.697196262\t         0.529069767\n",
      "  GRU_2 -old using cosi_2\t         0.859922179\t         0.865420561\t         0.754266212\n",
      "  GRU_2 -old using cosi_6\t         0.772058824\t         0.768224299\t         0.628742515\n",
      "  GRU_2 -old using cosi_7\t         0.463157895\t         0.428037383\t         0.301369863\n",
      "  GRU_2 -old using cosi_8\t         0.733870968\t         0.753271028\t         0.579617834\n",
      "  GRU_1 -new using cosi_2\t         0.759398496\t         0.760747664\t         0.612121212\n",
      "  GRU_1 -new using cosi_6\t         0.779467681\t         0.783177570\t         0.638629283\n",
      "  GRU_1 -new using cosi_7\t         0.457960644\t         0.433644860\t         0.296983759\n",
      "  GRU_1 -new using cosi_8\t         0.767567568\t         0.758878505\t         0.622807018\n",
      "  GRU_2 -new using cosi_2\t         0.776290631\t         0.781308411\t         0.634375000\n",
      "  GRU_2 -new using cosi_6\t         0.770398482\t         0.773831776\t         0.626543210\n",
      "  GRU_2 -new using cosi_7\t         0.472998138\t         0.471028037\t         0.309756098\n",
      "  GRU_2 -new using cosi_8\t         0.744274809\t         0.749532710\t         0.592705167\n",
      "\n",
      "  GRU_1 -old using cosi_2\t         0.743494424\t         0.742056075\t         0.591715976\n",
      "  GRU_1 -old using cosi_6\t         0.823129252\t         0.805607477\t         0.699421965\n",
      "  GRU_1 -old using cosi_7\t         0.512733447\t         0.463551402\t         0.344748858\n",
      "  GRU_1 -old using cosi_8\t         0.746765250\t         0.743925234\t         0.595870206\n",
      "  GRU_2 -old using cosi_2\t         0.786389414\t         0.788785047\t         0.647975078\n",
      "  GRU_2 -old using cosi_6\t         0.869409660\t         0.863551402\t         0.768987342\n",
      "  GRU_2 -old using cosi_7\t         0.499145299\t         0.452336449\t         0.332574032\n",
      "  GRU_2 -old using cosi_8\t         0.751467710\t         0.762616822\t         0.601880878\n",
      "  GRU_1 -new using cosi_2\t         0.782449726\t         0.777570093\t         0.642642643\n",
      "  GRU_1 -new using cosi_6\t         0.828096118\t         0.826168224\t         0.706624606\n",
      "  GRU_1 -new using cosi_7\t         0.508710801\t         0.472897196\t         0.341121495\n",
      "  GRU_1 -new using cosi_8\t         0.828070175\t         0.816822430\t         0.706586826\n",
      "  GRU_2 -new using cosi_2\t         0.799256506\t         0.798130841\t         0.665634675\n",
      "  GRU_2 -new using cosi_6\t         0.826568266\t         0.824299065\t         0.704402516\n",
      "  GRU_2 -new using cosi_7\t         0.503623188\t         0.487850467\t         0.336561743\n",
      "  GRU_2 -new using cosi_8\t         0.805194805\t         0.803738318\t         0.673913043\n",
      "\n",
      "  GRU_1 -old using cosi_2\t         0.691206544\t         0.717757009\t         0.528125000\n",
      "  GRU_1 -old using cosi_6\t         0.727272727\t         0.725233645\t         0.571428571\n",
      "  GRU_1 -old using cosi_7\t         0.451851852\t         0.446728972\t         0.291866029\n",
      "  GRU_1 -old using cosi_8\t         0.756097561\t         0.775700935\t         0.607843137\n",
      "  GRU_2 -old using cosi_2\t         0.754166667\t         0.779439252\t         0.605351171\n",
      "  GRU_2 -old using cosi_6\t         0.749019608\t         0.760747664\t         0.598746082\n",
      "  GRU_2 -old using cosi_7\t         0.444029851\t         0.442990654\t         0.285371703\n",
      "  GRU_2 -old using cosi_8\t         0.809523810\t         0.835514019\t         0.680000000\n",
      "  GRU_1 -new using cosi_2\t         0.718875502\t         0.738317757\t         0.561128527\n",
      "  GRU_1 -new using cosi_6\t         0.752032520\t         0.771962617\t         0.602605863\n",
      "  GRU_1 -new using cosi_7\t         0.441904762\t         0.452336449\t         0.283618582\n",
      "  GRU_1 -new using cosi_8\t         0.710172745\t         0.717757009\t         0.550595238\n",
      "  GRU_2 -new using cosi_2\t         0.740286299\t         0.762616822\t         0.587662338\n",
      "  GRU_2 -new using cosi_6\t         0.746450304\t         0.766355140\t         0.595469256\n",
      "  GRU_2 -new using cosi_7\t         0.461232604\t         0.493457944\t         0.299741602\n",
      "  GRU_2 -new using cosi_8\t         0.722448980\t         0.745794393\t         0.565495208\n",
      "\n"
     ]
    }
   ],
   "source": [
    "print('%25s\\t%20s\\t%20s\\t%20s' % ('', 'F1 score', 'Accuracy', 'Jaccard Similarity'))\n",
    "reds = [i for i in sorted(list(reductions), key=lambda x:x[::-1]) if 'GRU' in i]\n",
    "for name in ['score_data/cosi_2.pkl', 'score_data/cosi_6.pkl', 'score_data/cosi_8.pkl']:\n",
    "    new_data = check_data(name, reds)\n",
    "    for i in list(reds):\n",
    "        b1 = new_data.to_binary(col='y_train')\n",
    "        b2 = new_data.to_binary(col='y_pred_%s' % i)\n",
    "        scores = [metrics.f1_score(new_data.df['y_train'], new_data.df['y_pred_%s' % i]),\n",
    "                  metrics.accuracy_score(new_data.df['y_train'], new_data.df['y_pred_%s' % i]),\n",
    "                  pr.jaccard_similarity(b1, b2)\n",
    "                 ]\n",
    "        if 'GRU' in i:\n",
    "            i = '%s using cosi_%c' % (i[2:], i[0])\n",
    "        #elif 'Attempt 2 both ways' in i:\n",
    "        #    i = '2 GRU using cosi_%c' % i[0]\n",
    "        print('%25s\\t%20.9f\\t%20.9f\\t%20.9f' % tuple([i] + scores))\n",
    "    print()"
   ]
  },
  {
   "cell_type": "code",
   "execution_count": 36,
   "metadata": {},
   "outputs": [],
   "source": [
    "reds = [i for i in sorted(list(reductions)) if i[0] == '7' or (i[0] == '8' and 'GRU_2 -new' in i)]\n",
    "#_, new_data = ScoreData.load('score_data/7.pkl').split_in(0.8, 0.9)\n",
    "new_data = ScoreData.load('score_data/2.pkl')\n",
    "#dfs = pr.load_df('input_with_chords', 7)\n",
    "#score = ScoreData(dfs)\n",
    "#score.save('score_data/fun_%d.pkl' % 0)\n",
    "#new_data = score\n",
    "for i in reds:\n",
    "    new_data = reductions[i].predict(new_data, threshold=0.1, name='y_pred_%s' % i)\n"
   ]
  },
  {
   "cell_type": "code",
   "execution_count": 37,
   "metadata": {},
   "outputs": [],
   "source": [
    "new_data.show_score(['x_train'] + ['y_pred_%s' % i for i in reds])"
   ]
  },
  {
   "cell_type": "code",
   "execution_count": 40,
   "metadata": {},
   "outputs": [
    {
     "data": {
      "text/plain": [
       "{'length': 39,\n",
       " 'features': ['active_rhythm',\n",
       "  'bass_line',\n",
       "  'entrance_effect',\n",
       "  'highest',\n",
       "  'in_chord',\n",
       "  'lowest',\n",
       "  'occurrence',\n",
       "  'onset_after_rest',\n",
       "  'rhythm_variety',\n",
       "  'strong_beats',\n",
       "  'sustained_rhythm',\n",
       "  'vertical_doubling',\n",
       "  'duration_length']}"
      ]
     },
     "execution_count": 40,
     "metadata": {},
     "output_type": "execute_result"
    }
   ],
   "source": []
  },
  {
   "cell_type": "code",
   "execution_count": null,
   "metadata": {},
   "outputs": [],
   "source": []
  }
 ],
 "metadata": {
  "kernelspec": {
   "display_name": "Python 3",
   "language": "python",
   "name": "python3"
  },
  "language_info": {
   "codemirror_mode": {
    "name": "ipython",
    "version": 3
   },
   "file_extension": ".py",
   "mimetype": "text/x-python",
   "name": "python",
   "nbconvert_exporter": "python",
   "pygments_lexer": "ipython3",
   "version": "3.6.5"
  }
 },
 "nbformat": 4,
 "nbformat_minor": 2
}
