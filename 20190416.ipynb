{
 "cells": [
  {
   "cell_type": "code",
   "execution_count": 1,
   "metadata": {},
   "outputs": [
    {
     "name": "stderr",
     "output_type": "stream",
     "text": [
      "Using TensorFlow backend.\n"
     ]
    }
   ],
   "source": [
    "import piano_reduction.tools as pr\n",
    "import piano_reduction.compute_features as cf\n",
    "from piano_reduction.classes import ScoreData, Reduction, Postprocessor\n",
    "from sklearn import metrics\n",
    "import numpy as np"
   ]
  },
  {
   "cell_type": "code",
   "execution_count": 2,
   "metadata": {},
   "outputs": [],
   "source": [
    "from keras import backend as K\n",
    "K.clear_session()\n",
    "reduction = Reduction.load('models/20190318b/GRU_2 8.pkl')\n",
    "#reduction = Reduction.load('models/20190415c/GRU_2 -old %d %d.pkl' % (8, 4))"
   ]
  },
  {
   "cell_type": "code",
   "execution_count": 3,
   "metadata": {},
   "outputs": [],
   "source": [
    "#data = ScoreData.read_xml('input_with_chords/i_0002_Beethoven_Symphony_No5_Mov1withchord.xml')\n",
    "#data = ScoreData.read_xml('input_with_chords/i_0000_Beethoven_op18_no1-4withchord.musicxml')\n",
    "data = ScoreData.read_xml('input_with_chords/i_0007_Tchaikovsky_nutcracker_marchwithchord.musicxml')\n",
    "\n",
    "#data = ScoreData.load('score_data/demo_20190417.pkl')"
   ]
  },
  {
   "cell_type": "code",
   "execution_count": 4,
   "metadata": {},
   "outputs": [],
   "source": [
    "new_data = reduction.predict(data, threshold=0.2)"
   ]
  },
  {
   "cell_type": "code",
   "execution_count": 5,
   "metadata": {},
   "outputs": [],
   "source": [
    "post_data = Postprocessor.postprocess(new_data, 'y_pred', algo='calc_v5')"
   ]
  },
  {
   "cell_type": "code",
   "execution_count": 8,
   "metadata": {},
   "outputs": [],
   "source": [
    "post_data.df['Comparison'] = post_data.get_color(new='y_pred', old='x_train')\n",
    "post_data.df['Original'] = post_data.df['x_train']\n",
    "post_data.df['Reduction'] = post_data.df['y_pred']\n",
    "post_data.df['Postprocessed'] = post_data.df['y_post']\n",
    "post_data.show_score(['Original', 'Reduction', 'Postprocessed'], ['Comparison'])"
   ]
  },
  {
   "cell_type": "code",
   "execution_count": 19,
   "metadata": {},
   "outputs": [],
   "source": [
    "data.save('score_data/demo_20190417.pkl')"
   ]
  },
  {
   "cell_type": "code",
   "execution_count": null,
   "metadata": {},
   "outputs": [],
   "source": [
    "整埋"
   ]
  }
 ],
 "metadata": {
  "kernelspec": {
   "display_name": "Python 3",
   "language": "python",
   "name": "python3"
  },
  "language_info": {
   "codemirror_mode": {
    "name": "ipython",
    "version": 3
   },
   "file_extension": ".py",
   "mimetype": "text/x-python",
   "name": "python",
   "nbconvert_exporter": "python",
   "pygments_lexer": "ipython3",
   "version": "3.6.5"
  }
 },
 "nbformat": 4,
 "nbformat_minor": 2
}
